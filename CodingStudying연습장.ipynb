{
  "nbformat": 4,
  "nbformat_minor": 0,
  "metadata": {
    "colab": {
      "provenance": [],
      "toc_visible": true,
      "authorship_tag": "ABX9TyOAKTK3H3Sga5E/QwfIYDXR",
      "include_colab_link": true
    },
    "kernelspec": {
      "name": "python3",
      "display_name": "Python 3"
    },
    "language_info": {
      "name": "python"
    }
  },
  "cells": [
    {
      "cell_type": "markdown",
      "metadata": {
        "id": "view-in-github",
        "colab_type": "text"
      },
      "source": [
        "<a href=\"https://colab.research.google.com/github/TaehwanAN/CodingStudy/blob/main/CodingStudying%EC%97%B0%EC%8A%B5%EC%9E%A5.ipynb\" target=\"_parent\"><img src=\"https://colab.research.google.com/assets/colab-badge.svg\" alt=\"Open In Colab\"/></a>"
      ]
    },
    {
      "cell_type": "markdown",
      "source": [
        "공원 산책: 172928"
      ],
      "metadata": {
        "id": "WU6CjLlFUD_X"
      }
    },
    {
      "cell_type": "code",
      "execution_count": 39,
      "metadata": {
        "colab": {
          "base_uri": "https://localhost:8080/"
        },
        "id": "kPqXWg-0KSfO",
        "outputId": "04839653-1c78-4f48-e63a-afc77d5ab8e4"
      },
      "outputs": [
        {
          "output_type": "stream",
          "name": "stdout",
          "text": [
            "0 0\n"
          ]
        },
        {
          "output_type": "execute_result",
          "data": {
            "text/plain": [
              "[0, 0]"
            ]
          },
          "metadata": {},
          "execution_count": 39
        }
      ],
      "source": [
        "# def solution(park, routes):\n",
        "    ## 동서: 같은 문자열에서 좌우로 이동 / 남북: 원소의 인덱스를 기준으로 이동\n",
        "    # 동: [==][+=], 서: [==][-=], 남: [+=][==], 북:[-=][==]\n",
        "    # 총 반복 횟수: len(routes)\n",
        "    # routes 원소 스플릿하면 방향과 거리 도출 가능\n",
        "    # 조건: 이동 거리가 범위 밖으로 안나가는지\n",
        "    # 조건: 이동 경로에서 장애물을 만나는지\n",
        "\n",
        "    # ##\n",
        "    # # 현재 좌표 탐색 (h,w)\n",
        "    # h=0\n",
        "    # w=0\n",
        "    # for i,w_string in enumerate(park):\n",
        "    #     if \"S\" in w_string:\n",
        "    #         h=i; w=w_string.find(\"S\");\n",
        "\n",
        "    # # 지시사항 탐색\n",
        "    # for r in routes:\n",
        "    #     direction, distance = r.split(' ')\n",
        "    #     distance=int(distance)\n",
        "    #     # 방향 확인 - 이동 가능한 거리인지 확인 - 장애물이 존해하는지 확인 : 조건 미충족시 break\n",
        "    #     if direction=='E':\n",
        "    #         if len(park[h])<(distance+w): break\n",
        "    #         elif \"X\" in park[h][w:]: break\n",
        "    #         else:\n",
        "    #             park[h][w], park[h][w+distance] = park[h][w+distance], park[h][w] # 이동 실행\n",
        "    # # print(park)\n",
        "\n",
        "\n",
        "\n",
        "## 문자열을 그대로 활용하려는 시도는 실패함. 왜냐하면 문자열의 경우 그 안의 문자 순서를 바꿔주기가 힘듬.\n",
        "# 따라서 그냥 park자체를 이중리스트로 바꿔버리자!\n",
        "\n",
        "def solution(park,routes):\n",
        "    answer=[]\n",
        "# 문자열로 담겨진 리스트를 이중리스트로 변경하기\n",
        "    park_array=[list(p) for p in park]\n",
        "# 현재 좌표 탐색\n",
        "    h=0 ; w=0 ;\n",
        "    for i, p_list in enumerate(park_array):\n",
        "        if \"S\" in p_list:\n",
        "            h=i; w=p_list.index(\"S\"); break;\n",
        "        # print(h,w)\n",
        "\n",
        "# 지시 사항 탐색\n",
        "        # 방향 확인 -> 이동 가능 거리 확인 -> 장애물 확인: 조건 미충족 시 continue\n",
        "        # 조건 충족 시: 현재좌표 <-> 이동 후 좌표, 그리고 현재 좌표 업데이트\n",
        "    for r in routes:\n",
        "        direction, distance= r.split( ' '); distance=int(distance);\n",
        "        if direction=='E':\n",
        "            if len(park_array[h][w:])<(w+distance): continue\n",
        "            elif \"X\" in park_array[h][w:]: continue\n",
        "            else:\n",
        "                park_array[h][w], park_array[h][w+distance] = park_array[h][w+distance], park_array[h][w] # 이동 실행\n",
        "                w+=distance # 좌표 변경\n",
        "        elif direction=='W':\n",
        "            if len(park_array[h][:w])>(w+distance): continue\n",
        "            elif \"X\" in park_array[h][:w]: continue\n",
        "            else:\n",
        "                park_array[h][w], park_array[h][w-distance] = park_array[h][w-distance], park_array[h][w] # 이동 실행\n",
        "                w-=distance # 좌표 변경\n",
        "\n",
        "        elif direction=='S':\n",
        "            if len(park)<(h+distance): continue\n",
        "            # elif \"X\" in park[h:][w]: continue ### 이중리스트[부분 슬라이싱][인덱스] => 이중리스트를 다시 가져와서 제대로 된 검색이 안되네\n",
        "            elif \"X\" in [h_list[w] for h_list in park_array[h:]]: continue ### 이렇게 바꿔줘야 검색 가능해짐\n",
        "            else:\n",
        "                park_array[h][w], park_array[h+distance][w]= park_array[h+distance][w], park_array[h][w]\n",
        "                h+=distance; # 좌표변경\n",
        "        elif direction=='N':\n",
        "            if 0>(h-distance): continue\n",
        "            elif \"X\" in [h_list[w] for h_list in park_array[:h]]: continue\n",
        "            else:\n",
        "                park_array[h][w], park_array[h-distance][w]= park_array[h-distance][w], park_array[h][w]\n",
        "                h-=distance;\n",
        "        print(h,w)\n",
        "    # 현재 좌표 반환\n",
        "    answer.append(h); answer.append(w)\n",
        "    return answer\n",
        "\n",
        "park=[\"OSO\",\"OOO\",\"OXO\",\"OOO\"]\n",
        "routes=[\"E 2\",\"S 3\",\"W 1\"]\n",
        "solution(park,routes)"
      ]
    },
    {
      "cell_type": "code",
      "source": [
        "park_array=[list(i)for i in park]\n",
        "[h[2] for h in park_array[1:]]"
      ],
      "metadata": {
        "colab": {
          "base_uri": "https://localhost:8080/"
        },
        "id": "0bwUuDOZUfCK",
        "outputId": "66c1dc1a-67f3-4182-e333-52bf8e7e4f09"
      },
      "execution_count": 33,
      "outputs": [
        {
          "output_type": "execute_result",
          "data": {
            "text/plain": [
              "['X', 'O']"
            ]
          },
          "metadata": {},
          "execution_count": 33
        }
      ]
    },
    {
      "cell_type": "code",
      "source": [],
      "metadata": {
        "id": "4mCkNaIXUggo"
      },
      "execution_count": null,
      "outputs": []
    }
  ]
}