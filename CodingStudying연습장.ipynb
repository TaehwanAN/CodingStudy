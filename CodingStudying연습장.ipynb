{
  "nbformat": 4,
  "nbformat_minor": 0,
  "metadata": {
    "colab": {
      "provenance": [],
      "toc_visible": true,
      "authorship_tag": "ABX9TyOprPur8TZEhZpBLZLmd3ZC",
      "include_colab_link": true
    },
    "kernelspec": {
      "name": "python3",
      "display_name": "Python 3"
    },
    "language_info": {
      "name": "python"
    }
  },
  "cells": [
    {
      "cell_type": "markdown",
      "metadata": {
        "id": "view-in-github",
        "colab_type": "text"
      },
      "source": [
        "<a href=\"https://colab.research.google.com/github/TaehwanAN/CodingStudy/blob/main/CodingStudying%EC%97%B0%EC%8A%B5%EC%9E%A5.ipynb\" target=\"_parent\"><img src=\"https://colab.research.google.com/assets/colab-badge.svg\" alt=\"Open In Colab\"/></a>"
      ]
    },
    {
      "cell_type": "markdown",
      "source": [
        "공원 산책: 172928"
      ],
      "metadata": {
        "id": "WU6CjLlFUD_X"
      }
    },
    {
      "cell_type": "code",
      "execution_count": null,
      "metadata": {
        "colab": {
          "base_uri": "https://localhost:8080/"
        },
        "id": "kPqXWg-0KSfO",
        "outputId": "04839653-1c78-4f48-e63a-afc77d5ab8e4"
      },
      "outputs": [
        {
          "output_type": "stream",
          "name": "stdout",
          "text": [
            "0 0\n"
          ]
        },
        {
          "output_type": "execute_result",
          "data": {
            "text/plain": [
              "[0, 0]"
            ]
          },
          "metadata": {},
          "execution_count": 39
        }
      ],
      "source": [
        "# def solution(park, routes):\n",
        "    ## 동서: 같은 문자열에서 좌우로 이동 / 남북: 원소의 인덱스를 기준으로 이동\n",
        "    # 동: [==][+=], 서: [==][-=], 남: [+=][==], 북:[-=][==]\n",
        "    # 총 반복 횟수: len(routes)\n",
        "    # routes 원소 스플릿하면 방향과 거리 도출 가능\n",
        "    # 조건: 이동 거리가 범위 밖으로 안나가는지\n",
        "    # 조건: 이동 경로에서 장애물을 만나는지\n",
        "\n",
        "    # ##\n",
        "    # # 현재 좌표 탐색 (h,w)\n",
        "    # h=0\n",
        "    # w=0\n",
        "    # for i,w_string in enumerate(park):\n",
        "    #     if \"S\" in w_string:\n",
        "    #         h=i; w=w_string.find(\"S\");\n",
        "\n",
        "    # # 지시사항 탐색\n",
        "    # for r in routes:\n",
        "    #     direction, distance = r.split(' ')\n",
        "    #     distance=int(distance)\n",
        "    #     # 방향 확인 - 이동 가능한 거리인지 확인 - 장애물이 존해하는지 확인 : 조건 미충족시 break\n",
        "    #     if direction=='E':\n",
        "    #         if len(park[h])<(distance+w): break\n",
        "    #         elif \"X\" in park[h][w:]: break\n",
        "    #         else:\n",
        "    #             park[h][w], park[h][w+distance] = park[h][w+distance], park[h][w] # 이동 실행\n",
        "    # # print(park)\n",
        "\n",
        "\n",
        "\n",
        "## 문자열을 그대로 활용하려는 시도는 실패함. 왜냐하면 문자열의 경우 그 안의 문자 순서를 바꿔주기가 힘듬.\n",
        "# 따라서 그냥 park자체를 이중리스트로 바꿔버리자!\n",
        "\n",
        "def solution(park,routes):\n",
        "    answer=[]\n",
        "# 문자열로 담겨진 리스트를 이중리스트로 변경하기\n",
        "    park_array=[list(p) for p in park]\n",
        "# 현재 좌표 탐색\n",
        "    h=0 ; w=0 ;\n",
        "    for i, p_list in enumerate(park_array):\n",
        "        if \"S\" in p_list:\n",
        "            h=i; w=p_list.index(\"S\"); break;\n",
        "        # print(h,w)\n",
        "\n",
        "# 지시 사항 탐색\n",
        "        # 방향 확인 -> 이동 가능 거리 확인 -> 장애물 확인: 조건 미충족 시 continue\n",
        "        # 조건 충족 시: 현재좌표 <-> 이동 후 좌표, 그리고 현재 좌표 업데이트\n",
        "    for r in routes:\n",
        "        direction, distance= r.split( ' '); distance=int(distance);\n",
        "        if direction=='E':\n",
        "            if len(park_array[h][w:])<(w+distance): continue\n",
        "            elif \"X\" in park_array[h][w:]: continue\n",
        "            else:\n",
        "                park_array[h][w], park_array[h][w+distance] = park_array[h][w+distance], park_array[h][w] # 이동 실행\n",
        "                w+=distance # 좌표 변경\n",
        "        elif direction=='W':\n",
        "            if len(park_array[h][:w])>(w+distance): continue\n",
        "            elif \"X\" in park_array[h][:w]: continue\n",
        "            else:\n",
        "                park_array[h][w], park_array[h][w-distance] = park_array[h][w-distance], park_array[h][w] # 이동 실행\n",
        "                w-=distance # 좌표 변경\n",
        "\n",
        "        elif direction=='S':\n",
        "            if len(park)<(h+distance): continue\n",
        "            # elif \"X\" in park[h:][w]: continue ### 이중리스트[부분 슬라이싱][인덱스] => 이중리스트를 다시 가져와서 제대로 된 검색이 안되네\n",
        "            elif \"X\" in [h_list[w] for h_list in park_array[h:]]: continue ### 이렇게 바꿔줘야 검색 가능해짐\n",
        "            else:\n",
        "                park_array[h][w], park_array[h+distance][w]= park_array[h+distance][w], park_array[h][w]\n",
        "                h+=distance; # 좌표변경\n",
        "        elif direction=='N':\n",
        "            if 0>(h-distance): continue\n",
        "            elif \"X\" in [h_list[w] for h_list in park_array[:h]]: continue\n",
        "            else:\n",
        "                park_array[h][w], park_array[h-distance][w]= park_array[h-distance][w], park_array[h][w]\n",
        "                h-=distance;\n",
        "        print(h,w)\n",
        "    # 현재 좌표 반환\n",
        "    answer.append(h); answer.append(w)\n",
        "    return answer\n",
        "\n",
        "park=[\"OSO\",\"OOO\",\"OXO\",\"OOO\"]\n",
        "routes=[\"E 2\",\"S 3\",\"W 1\"]\n",
        "solution(park,routes)"
      ]
    },
    {
      "cell_type": "code",
      "source": [
        "## GPT HELP!!!\n",
        "def solution(park, routes):\n",
        "    # 문자열로 담겨진 리스트를 이중리스트로 변경하기\n",
        "    park_array = [list(p) for p in park]\n",
        "    # 현재 좌표 탐색\n",
        "    h = 0\n",
        "    w = 0\n",
        "    for i, p_list in enumerate(park_array):\n",
        "        if \"S\" in p_list:\n",
        "            h = i\n",
        "            w = p_list.index(\"S\")\n",
        "            break\n",
        "\n",
        "    # 이동 가능한지 확인하는 함수\n",
        "    def can_move(h, w, dh, dw, distance): # dh는 height 이동거리, dw는 width 이동거리\n",
        "        for i in range(1, distance + 1): # 현 좌표 다음 좌표 부터 이동할 거리만큼 까지\n",
        "            nh, nw = h + dh * i, w + dw * i\n",
        "            if nh < 0 or nh >= len(park_array) or nw < 0 or nw >= len(park_array[0]) or park_array[nh][nw] == \"X\":\n",
        "                return False\n",
        "        return True\n",
        "\n",
        "    # 지시 사항 탐색\n",
        "    directions = {'E': (0, 1), 'W': (0, -1), 'S': (1, 0), 'N': (-1, 0)} ## 방향정보를 이동할 1칸씩의 좌표를 담은 튜플과 해쉬맵으로 정리했네; 기저벡터활용\n",
        "    for r in routes:\n",
        "        direction, distance = r.split(' ')\n",
        "        distance = int(distance)\n",
        "        dh, dw = directions[direction]\n",
        "        if can_move(h, w, dh, dw, distance):\n",
        "            park_array[h][w], park_array[h + dh * distance][w + dw * distance] = park_array[h + dh * distance][w + dw * distance], park_array[h][w]\n",
        "            h += dh * distance\n",
        "            w += dw * distance\n",
        "\n",
        "    # 현재 좌표 반환\n",
        "    return [h, w]"
      ],
      "metadata": {
        "colab": {
          "base_uri": "https://localhost:8080/"
        },
        "id": "0bwUuDOZUfCK",
        "outputId": "66c1dc1a-67f3-4182-e333-52bf8e7e4f09"
      },
      "execution_count": null,
      "outputs": [
        {
          "output_type": "execute_result",
          "data": {
            "text/plain": [
              "['X', 'O']"
            ]
          },
          "metadata": {},
          "execution_count": 33
        }
      ]
    },
    {
      "cell_type": "markdown",
      "source": [
        "구명보트 42885"
      ],
      "metadata": {
        "id": "c287HvATh31D"
      }
    },
    {
      "cell_type": "code",
      "source": [
        "def solution(people,limit):\n",
        "    answer=0\n",
        "    aloneList=[]\n",
        "    minWeight=min(people)\n",
        "\n",
        "    # 일단 혼자만 타야하는 사람은 먼저 내보낸다.\n",
        "    while True:\n",
        "        if max(people)> (limit-min(people)):\n",
        "            answer+=1\n",
        "            people.remove(max(people))\n",
        "            # print(people)\n",
        "        else:\n",
        "            break\n",
        "\n",
        "\n",
        "    # while True:\n",
        "    #     boat=[]\n",
        "    #     while True:\n",
        "    #         boat.append(min(people))\n",
        "    #         people.remove(min(people))\n",
        "    #         print(\"boat\",boat)\n",
        "    #         print(\"people\",people)\n",
        "    #         if sum(people)+min(people)>limit:\n",
        "    #             break\n",
        "    #     print(answer)\n",
        "    #     answer+=1\n",
        "    #     if len(people)==0:\n",
        "    #         break\n",
        "\n",
        "\n",
        "    ## 알고리즘 고민\n",
        "    # 만약 다음 탈사람까지 더한 몸무게 합산이 보트 무게 제한을 넘기면,그 사람은 못탄채로 보트를 출발 시킨다.\n",
        "    # 빈 보트에는 일단 제일 몸무게 적은 사람 부터 태운다. 그리고 무인도에서 그 사람을 제거한다.\n",
        "    # 보트가 출발하면 정답 +1 해주고, 다음 새로운 보트가 들어온다.\n",
        "    # 이 작업은 무인도에 남은 인간이 하나도 없을때 까지 반복된다.\n",
        "    ## 알고리즘 만들다 보니 min()활용할때 people이 빈 깡통이면 에러가 발생함.\n",
        "    # 그래서 무인도에 1명 남으면 그냥 그 사람을 혼자 태워서 보내버리고 정답 +1 해주고 while 문 종료 시켜버림.\n",
        "    ## 이러한 종료방식도 만약 100 리밋에 50,50이 타버리는 경우를 고려 못함.\n",
        "    # 따라서 while True -> while len(people)>0 으로 변경\n",
        "\n",
        "    # while len(people)>0:\n",
        "    #     boat=[]\n",
        "    #     while len(people)>0:\n",
        "    #         if sum(boat)+min(people)>limit:\n",
        "    #             # print(answer)\n",
        "    #             break\n",
        "    #         boat.append(min(people)); people.remove(min(people));\n",
        "    #     answer+=1\n",
        "    # return answer\n",
        "\n",
        "\n",
        "\n",
        "    ## 내 알고리즘의 문제점\n",
        "    # 구명보트는 작아서 최대 2명 밖에 못탄다는 제한사항을 miss해버림.\n",
        "\n",
        "    while len(people)>0:\n",
        "        boat=[]\n",
        "        while len(people)>0:\n",
        "            if (len(boat)==2 or (sum(boat)+min(people)>limit)):\n",
        "                break\n",
        "            boat.append(min(people)); people.remove(min(people));\n",
        "        answer+=1\n",
        "\n",
        "    return answer\n",
        "\n",
        "people=[70,80,50]\n",
        "limit=100\n",
        "solution(people,limit)\n",
        "\n",
        "\n",
        "## 효율성: max()와 min() 함수는 각각 O(n)의 시간 복잡도를 가지므로,\n",
        "#이들을 반복적으로 호출하면 전체 알고리즘의 효율성이 저하됩니다.\n",
        "# 이를 해결하기 위해, 사람들을 무게별로 미리 정렬하고 양쪽 끝에서 시작하여 인덱스를 이동시키는 방법을 사용할 수 있습니다.\n",
        "\n",
        "## 보트의 용량: 코드는 한 보트에 최대 2명만 탈 수 있다고 가정하고 있습니다.\n",
        "# 그러나 문제 설명에 따르면, 보트의 무게 제한만 지키면 보트에 더 많은 사람들을 태울 수 있습니다.\n",
        "# 이 부분을 수정하려면, 보트에 사람들을 추가하는 동안 무게 제한을 초과하지 않는 한 계속 추가해야 합니다."
      ],
      "metadata": {
        "id": "4mCkNaIXUggo",
        "colab": {
          "base_uri": "https://localhost:8080/"
        },
        "outputId": "2e2ae46f-b30f-43d4-d3d8-f22472d8c98b"
      },
      "execution_count": null,
      "outputs": [
        {
          "output_type": "execute_result",
          "data": {
            "text/plain": [
              "3"
            ]
          },
          "metadata": {},
          "execution_count": 33
        }
      ]
    },
    {
      "cell_type": "code",
      "source": [
        "## GPT에 물어보 코드\n",
        "def solution(people, limit):\n",
        "    people.sort() # 사람들을 오름차순으로 정렬(min이 0번 인덱스로)\n",
        "    answer = 0\n",
        "    i, j = 0, len(people) - 1 # 시작값, 끝값\n",
        "\n",
        "    ## 알고리즘 생각\n",
        "    # 일단 제일 무거운 사람을 태워서 보낼거다.\n",
        "    # 그런데 만약 그 제일 무거운 사람과 제일 가벼운 사람을 함께 태워서 보낼 수 있다면,\n",
        "    # 같이 태워보낼거다.\n",
        "    # 같이 못 태워 보내면(else) 그냥 제일 무거운 사람만 혼자 보낼거다.\n",
        "    ## 문제의 제한사항이 최대 2인 탑승 가능이라서ok.\n",
        "    while i <= j: # 왼쪽에서오는 인덱스가 오른쪽에서 오는 인덱스와 같아질때 까지\n",
        "\n",
        "        if people[i] + people[j] <= limit:\n",
        "            i += 1\n",
        "\n",
        "        j -= 1; answer += 1;\n",
        "    return answer\n",
        "\n",
        "## 사람들을 정렬합니다 (people.sort()):\n",
        "# 이것은 사람들을 그들의 무게에 따라 오름차순으로 정렬합니다.\n",
        "# 이렇게 하면 가장 가벼운 사람과 가장 무거운 사람을 쉽게 찾을 수 있습니다.\n",
        "\n",
        "## 인덱스를 초기화합니다 (i, j = 0, len(people) - 1): i는 가장 가벼운 사람을 가리키고,\n",
        "# j는 가장 무거운 사람을 가리킵니다.\n",
        "\n",
        "## 보트에 사람들을 태웁니다 (while i <= j:): 이 루프는 모든 사람이 보트에 탈 때까지 계속됩니다.\n",
        "\n",
        "## 가벼운 사람과 무거운 사람을 함께 태웁니다 (if people[i] + people[j] <= limit:):\n",
        "# 만약 두 사람이 함께 보트에 탈 수 있다면 (즉, 그들의 무게 합이 보트의 무게 제한 이하라면),\n",
        "# i를 증가시켜 다음으로 가장 가벼운 사람을 가리키게 합니다.\n",
        "\n",
        "## 무거운 사람을 혼자 태웁니다 (j -= 1):\n",
        "# 무거운 사람이 혼자 타야 하는 경우 (즉, 가장 가벼운 사람과 함께 탈 수 없는 경우)나 두 사람이 함께 탈 수 있는\n",
        "# 경우에도, j를 감소시켜 다음으로 가장 무거운 사람을 가리키게 합니다.\n",
        "\n",
        "# 보트의 수를 세어줍니다 (answer += 1):\n",
        "#무거운 사람이 보트에 탈 때마다 보트의 수를 증가시킵니다.\n",
        "# 이는 무거운 사람이 혼자 타든 가벼운 사람과 함께 타든 간에 보트를 사용하게 되므로,\n",
        "#이 시점에서 보트의 수를 증가시키는 것이 합리적입니다.\n",
        "\n",
        "# 보트의 총 수를 반환합니다 (return answer): 모든 사람이 보트에 탄 후에는, 사용된 보트의 총 수를 반환합니다."
      ],
      "metadata": {
        "id": "Fx4SyU_3uZM1"
      },
      "execution_count": null,
      "outputs": []
    },
    {
      "cell_type": "markdown",
      "source": [
        "[1차] 비밀지도 17681"
      ],
      "metadata": {
        "id": "GCqGd-F-OK4I"
      }
    },
    {
      "cell_type": "code",
      "source": [
        "bin(3)[2:].zfill(5)\n"
      ],
      "metadata": {
        "colab": {
          "base_uri": "https://localhost:8080/",
          "height": 35
        },
        "id": "2Pz2bTz5OKVg",
        "outputId": "06e17c0e-66ff-4326-a913-76bcacec69e2"
      },
      "execution_count": null,
      "outputs": [
        {
          "output_type": "execute_result",
          "data": {
            "text/plain": [
              "'00011'"
            ],
            "application/vnd.google.colaboratory.intrinsic+json": {
              "type": "string"
            }
          },
          "metadata": {},
          "execution_count": 8
        }
      ]
    },
    {
      "cell_type": "code",
      "source": [
        "def solution(n, arr1, arr2):\n",
        "    answer = []\n",
        "    ## arr1의 원소의 값을 5자리 이진수로 각각 변환하여, 문자열로 만든다.\n",
        "    # arr2도 동일한 작업을 한다.\n",
        "    # 두 이중리스트를 묶어서 순회하면서, 둘 중 하나에서라도 1일 경우, #을 둘다 0일 경우 공백을 추가한다.\n",
        "\n",
        "    # 자연수를 (다섯자리의) 이진수로 변환하기\n",
        "    # zfill(n): n의 자리수로 만들되 빈칸은 zero를 채워라\n",
        "    arr1_bin=[]\n",
        "    arr2_bin=[]\n",
        "    for i,j in zip(arr1,arr2):\n",
        "        arr1_bin.append(str(bin(i)[2:].zfill(5)))\n",
        "        arr2_bin.append(str(bin(j)[2:].zfill(5)))\n",
        "\n",
        "    # 두 배열을 순회하면서 샵/공백 만들기\n",
        "    for i_bin,j_bin in zip(arr1_bin,arr2_bin):\n",
        "        shop_str=''\n",
        "        shop_list=[]\n",
        "        for i, j in zip(i_bin,j_bin):\n",
        "            if (i=='1')or(j=='1'):\n",
        "                shop_list.append('#')\n",
        "            else:\n",
        "                shop_list.append(' ')\n",
        "        shop_str=''.join(shop_list)\n",
        "        answer.append(shop_str)\n",
        "\n",
        "\n",
        "    return answer\n",
        "\n"
      ],
      "metadata": {
        "id": "-9VqFhLaTXLZ"
      },
      "execution_count": null,
      "outputs": []
    },
    {
      "cell_type": "markdown",
      "source": [
        "3진법 뒤집기 68935\n",
        "자연수 n이 매개변수로 주어집니다. n을 3진법 상에서 앞뒤로 뒤집은 후, 이를 다시 10진법으로 표현한 수를 return 하도록 solution 함수를 완성해주세요."
      ],
      "metadata": {
        "id": "4Sk_HRW6o2ZM"
      }
    },
    {
      "cell_type": "code",
      "source": [
        "# share(몫): s, remainder(나머지):r\n",
        "a=''\n",
        "s,r =divmod(45,3)\n",
        "a=str(r)+a\n",
        "s,r = divmod(s,3)\n",
        "a= str(r)+a\n",
        "print(a)"
      ],
      "metadata": {
        "colab": {
          "base_uri": "https://localhost:8080/"
        },
        "id": "jZzSqPh1o1Vz",
        "outputId": "98c455cd-46d5-4377-c50b-e08c259284c8"
      },
      "execution_count": null,
      "outputs": [
        {
          "output_type": "stream",
          "name": "stdout",
          "text": [
            "00\n"
          ]
        }
      ]
    },
    {
      "cell_type": "markdown",
      "source": [
        "삼총사 131705\n",
        "조합"
      ],
      "metadata": {
        "id": "xocJIi1eX3PM"
      }
    },
    {
      "cell_type": "code",
      "source": [
        "from itertools import combinations\n",
        "def solution(number):\n",
        "    answer = 0\n",
        "    for tup in combinations(number,3):\n",
        "        print(tup)\n",
        "        if sum(tup)==0:\n",
        "            answer+=1\n",
        "    return answer\n",
        "\n",
        "number=[-3, -2, -1, 0, 1, 2, 3]\n",
        "solution(number)"
      ],
      "metadata": {
        "colab": {
          "base_uri": "https://localhost:8080/"
        },
        "id": "Bi6R45Eto1n7",
        "outputId": "75631a2e-a863-470c-a471-4b169906dcda"
      },
      "execution_count": null,
      "outputs": [
        {
          "output_type": "stream",
          "name": "stdout",
          "text": [
            "(-3, -2, -1)\n",
            "(-3, -2, 0)\n",
            "(-3, -2, 1)\n",
            "(-3, -2, 2)\n",
            "(-3, -2, 3)\n",
            "(-3, -1, 0)\n",
            "(-3, -1, 1)\n",
            "(-3, -1, 2)\n",
            "(-3, -1, 3)\n",
            "(-3, 0, 1)\n",
            "(-3, 0, 2)\n",
            "(-3, 0, 3)\n",
            "(-3, 1, 2)\n",
            "(-3, 1, 3)\n",
            "(-3, 2, 3)\n",
            "(-2, -1, 0)\n",
            "(-2, -1, 1)\n",
            "(-2, -1, 2)\n",
            "(-2, -1, 3)\n",
            "(-2, 0, 1)\n",
            "(-2, 0, 2)\n",
            "(-2, 0, 3)\n",
            "(-2, 1, 2)\n",
            "(-2, 1, 3)\n",
            "(-2, 2, 3)\n",
            "(-1, 0, 1)\n",
            "(-1, 0, 2)\n",
            "(-1, 0, 3)\n",
            "(-1, 1, 2)\n",
            "(-1, 1, 3)\n",
            "(-1, 2, 3)\n",
            "(0, 1, 2)\n",
            "(0, 1, 3)\n",
            "(0, 2, 3)\n",
            "(1, 2, 3)\n"
          ]
        },
        {
          "output_type": "execute_result",
          "data": {
            "text/plain": [
              "5"
            ]
          },
          "metadata": {},
          "execution_count": 19
        }
      ]
    },
    {
      "cell_type": "markdown",
      "source": [
        "## permutaions, combinations"
      ],
      "metadata": {
        "id": "1dJ-VtEwYUVz"
      }
    },
    {
      "cell_type": "code",
      "source": [
        "from itertools import permutations, combinations\n",
        "import random\n",
        "\n",
        "numbers=[random.randint(-100,101) for _ in range(7)]\n",
        "print(numbers)\n",
        "\n",
        "print(\"combination nCr(r=3): numbers에서 3개의 수를 뽑는 모든 경우의 수\")\n",
        "for i in combinations(numbers, 3):\n",
        "    print(i, end='|')\n",
        "\n",
        "print()\n",
        "print(\"permutaition nPr(r=3): numbers 에서 3개의 수를 뽑되, 순서가 다르면 다른 모든 경우의 수\")\n",
        "for i in permutations(numbers,3):\n",
        "    print(i, end='|')\n"
      ],
      "metadata": {
        "colab": {
          "base_uri": "https://localhost:8080/"
        },
        "id": "mc_tpwz7YaB5",
        "outputId": "584933d8-44b3-4047-ab71-142ef16d80a3"
      },
      "execution_count": null,
      "outputs": [
        {
          "output_type": "stream",
          "name": "stdout",
          "text": [
            "[-58, 75, -34, 98, 67, -43, -92]\n",
            "combination nCr(r=3): numbers에서 3개의 수를 뽑는 모든 경우의 수\n",
            "(-58, 75, -34)|(-58, 75, 98)|(-58, 75, 67)|(-58, 75, -43)|(-58, 75, -92)|(-58, -34, 98)|(-58, -34, 67)|(-58, -34, -43)|(-58, -34, -92)|(-58, 98, 67)|(-58, 98, -43)|(-58, 98, -92)|(-58, 67, -43)|(-58, 67, -92)|(-58, -43, -92)|(75, -34, 98)|(75, -34, 67)|(75, -34, -43)|(75, -34, -92)|(75, 98, 67)|(75, 98, -43)|(75, 98, -92)|(75, 67, -43)|(75, 67, -92)|(75, -43, -92)|(-34, 98, 67)|(-34, 98, -43)|(-34, 98, -92)|(-34, 67, -43)|(-34, 67, -92)|(-34, -43, -92)|(98, 67, -43)|(98, 67, -92)|(98, -43, -92)|(67, -43, -92)|\n",
            "permutaition nPr(r=3): numbers 에서 3개의 수를 뽑되, 순서가 다르면 다른 모든 경우의 수\n",
            "(-58, 75, -34)|(-58, 75, 98)|(-58, 75, 67)|(-58, 75, -43)|(-58, 75, -92)|(-58, -34, 75)|(-58, -34, 98)|(-58, -34, 67)|(-58, -34, -43)|(-58, -34, -92)|(-58, 98, 75)|(-58, 98, -34)|(-58, 98, 67)|(-58, 98, -43)|(-58, 98, -92)|(-58, 67, 75)|(-58, 67, -34)|(-58, 67, 98)|(-58, 67, -43)|(-58, 67, -92)|(-58, -43, 75)|(-58, -43, -34)|(-58, -43, 98)|(-58, -43, 67)|(-58, -43, -92)|(-58, -92, 75)|(-58, -92, -34)|(-58, -92, 98)|(-58, -92, 67)|(-58, -92, -43)|(75, -58, -34)|(75, -58, 98)|(75, -58, 67)|(75, -58, -43)|(75, -58, -92)|(75, -34, -58)|(75, -34, 98)|(75, -34, 67)|(75, -34, -43)|(75, -34, -92)|(75, 98, -58)|(75, 98, -34)|(75, 98, 67)|(75, 98, -43)|(75, 98, -92)|(75, 67, -58)|(75, 67, -34)|(75, 67, 98)|(75, 67, -43)|(75, 67, -92)|(75, -43, -58)|(75, -43, -34)|(75, -43, 98)|(75, -43, 67)|(75, -43, -92)|(75, -92, -58)|(75, -92, -34)|(75, -92, 98)|(75, -92, 67)|(75, -92, -43)|(-34, -58, 75)|(-34, -58, 98)|(-34, -58, 67)|(-34, -58, -43)|(-34, -58, -92)|(-34, 75, -58)|(-34, 75, 98)|(-34, 75, 67)|(-34, 75, -43)|(-34, 75, -92)|(-34, 98, -58)|(-34, 98, 75)|(-34, 98, 67)|(-34, 98, -43)|(-34, 98, -92)|(-34, 67, -58)|(-34, 67, 75)|(-34, 67, 98)|(-34, 67, -43)|(-34, 67, -92)|(-34, -43, -58)|(-34, -43, 75)|(-34, -43, 98)|(-34, -43, 67)|(-34, -43, -92)|(-34, -92, -58)|(-34, -92, 75)|(-34, -92, 98)|(-34, -92, 67)|(-34, -92, -43)|(98, -58, 75)|(98, -58, -34)|(98, -58, 67)|(98, -58, -43)|(98, -58, -92)|(98, 75, -58)|(98, 75, -34)|(98, 75, 67)|(98, 75, -43)|(98, 75, -92)|(98, -34, -58)|(98, -34, 75)|(98, -34, 67)|(98, -34, -43)|(98, -34, -92)|(98, 67, -58)|(98, 67, 75)|(98, 67, -34)|(98, 67, -43)|(98, 67, -92)|(98, -43, -58)|(98, -43, 75)|(98, -43, -34)|(98, -43, 67)|(98, -43, -92)|(98, -92, -58)|(98, -92, 75)|(98, -92, -34)|(98, -92, 67)|(98, -92, -43)|(67, -58, 75)|(67, -58, -34)|(67, -58, 98)|(67, -58, -43)|(67, -58, -92)|(67, 75, -58)|(67, 75, -34)|(67, 75, 98)|(67, 75, -43)|(67, 75, -92)|(67, -34, -58)|(67, -34, 75)|(67, -34, 98)|(67, -34, -43)|(67, -34, -92)|(67, 98, -58)|(67, 98, 75)|(67, 98, -34)|(67, 98, -43)|(67, 98, -92)|(67, -43, -58)|(67, -43, 75)|(67, -43, -34)|(67, -43, 98)|(67, -43, -92)|(67, -92, -58)|(67, -92, 75)|(67, -92, -34)|(67, -92, 98)|(67, -92, -43)|(-43, -58, 75)|(-43, -58, -34)|(-43, -58, 98)|(-43, -58, 67)|(-43, -58, -92)|(-43, 75, -58)|(-43, 75, -34)|(-43, 75, 98)|(-43, 75, 67)|(-43, 75, -92)|(-43, -34, -58)|(-43, -34, 75)|(-43, -34, 98)|(-43, -34, 67)|(-43, -34, -92)|(-43, 98, -58)|(-43, 98, 75)|(-43, 98, -34)|(-43, 98, 67)|(-43, 98, -92)|(-43, 67, -58)|(-43, 67, 75)|(-43, 67, -34)|(-43, 67, 98)|(-43, 67, -92)|(-43, -92, -58)|(-43, -92, 75)|(-43, -92, -34)|(-43, -92, 98)|(-43, -92, 67)|(-92, -58, 75)|(-92, -58, -34)|(-92, -58, 98)|(-92, -58, 67)|(-92, -58, -43)|(-92, 75, -58)|(-92, 75, -34)|(-92, 75, 98)|(-92, 75, 67)|(-92, 75, -43)|(-92, -34, -58)|(-92, -34, 75)|(-92, -34, 98)|(-92, -34, 67)|(-92, -34, -43)|(-92, 98, -58)|(-92, 98, 75)|(-92, 98, -34)|(-92, 98, 67)|(-92, 98, -43)|(-92, 67, -58)|(-92, 67, 75)|(-92, 67, -34)|(-92, 67, 98)|(-92, 67, -43)|(-92, -43, -58)|(-92, -43, 75)|(-92, -43, -34)|(-92, -43, 98)|(-92, -43, 67)|"
          ]
        }
      ]
    },
    {
      "cell_type": "code",
      "source": [
        "num= [2,2,1,3,1,2]"
      ],
      "metadata": {
        "colab": {
          "base_uri": "https://localhost:8080/"
        },
        "id": "0irRcma8h7SA",
        "outputId": "cc05d608-820a-49c0-8fd4-9ab3ce46aa9f"
      },
      "execution_count": null,
      "outputs": [
        {
          "output_type": "execute_result",
          "data": {
            "text/plain": [
              "{}"
            ]
          },
          "metadata": {},
          "execution_count": 33
        }
      ]
    },
    {
      "cell_type": "code",
      "source": [
        "p=[\"marina\", \"josipa\", \"nikola\", \"vinko\", \"filipa\"]\n",
        "c=[\"josipa\", \"filipa\", \"marina\", \"nikola\"]\n",
        "n=set(p)-set(c)\n",
        "d={}\n",
        "for i in p:\n",
        "    d[i]+=1\n",
        "d"
      ],
      "metadata": {
        "colab": {
          "base_uri": "https://localhost:8080/",
          "height": 237
        },
        "id": "e5GVJJCDh7G5",
        "outputId": "34d8753e-daea-4f11-9c20-f9c86e730128"
      },
      "execution_count": null,
      "outputs": [
        {
          "output_type": "error",
          "ename": "KeyError",
          "evalue": "'marina'",
          "traceback": [
            "\u001b[0;31m---------------------------------------------------------------------------\u001b[0m",
            "\u001b[0;31mKeyError\u001b[0m                                  Traceback (most recent call last)",
            "\u001b[0;32m<ipython-input-43-53983dc16b2a>\u001b[0m in \u001b[0;36m<cell line: 5>\u001b[0;34m()\u001b[0m\n\u001b[1;32m      4\u001b[0m \u001b[0md\u001b[0m\u001b[0;34m=\u001b[0m\u001b[0;34m{\u001b[0m\u001b[0;34m}\u001b[0m\u001b[0;34m\u001b[0m\u001b[0;34m\u001b[0m\u001b[0m\n\u001b[1;32m      5\u001b[0m \u001b[0;32mfor\u001b[0m \u001b[0mi\u001b[0m \u001b[0;32min\u001b[0m \u001b[0mp\u001b[0m\u001b[0;34m:\u001b[0m\u001b[0;34m\u001b[0m\u001b[0;34m\u001b[0m\u001b[0m\n\u001b[0;32m----> 6\u001b[0;31m     \u001b[0md\u001b[0m\u001b[0;34m[\u001b[0m\u001b[0mi\u001b[0m\u001b[0;34m]\u001b[0m\u001b[0;34m+=\u001b[0m\u001b[0;36m1\u001b[0m\u001b[0;34m\u001b[0m\u001b[0;34m\u001b[0m\u001b[0m\n\u001b[0m\u001b[1;32m      7\u001b[0m \u001b[0md\u001b[0m\u001b[0;34m\u001b[0m\u001b[0;34m\u001b[0m\u001b[0m\n",
            "\u001b[0;31mKeyError\u001b[0m: 'marina'"
          ]
        }
      ]
    },
    {
      "cell_type": "markdown",
      "source": [],
      "metadata": {
        "id": "C49gsI5ck2Fm"
      }
    },
    {
      "cell_type": "code",
      "source": [
        "s='banana'\n",
        "answer=[]\n",
        "for i in s:\n"
      ],
      "metadata": {
        "colab": {
          "base_uri": "https://localhost:8080/"
        },
        "id": "34PY4pB_k2ue",
        "outputId": "e98194a7-e282-489f-ae2f-bfaf346f3a8b"
      },
      "execution_count": null,
      "outputs": [
        {
          "output_type": "stream",
          "name": "stdout",
          "text": [
            "b\n",
            "b\n",
            "a\n",
            "b\n",
            "a\n",
            "a\n",
            "n\n",
            "b\n",
            "n\n",
            "a\n",
            "n\n",
            "n\n",
            "a\n",
            "b\n",
            "a\n",
            "a\n",
            "n\n",
            "b\n",
            "n\n",
            "a\n",
            "n\n",
            "n\n",
            "a\n",
            "b\n",
            "a\n",
            "a\n"
          ]
        }
      ]
    },
    {
      "cell_type": "code",
      "source": [
        "def solution(s):\n",
        "    answer = 0\n",
        "    num_dict={'zero':0,'one':1,'two':2,'three':3,'four':4,\n",
        "             'five':5, 'six':6,'seven':7,'eight':8,'nine':9}\n",
        "    for k,v in num_dict.items():\n",
        "        s=s.replace(k,str(v))\n",
        "    return int(s)\n",
        "s=\"2three45sixseven\"\n",
        "solution(s)"
      ],
      "metadata": {
        "colab": {
          "base_uri": "https://localhost:8080/"
        },
        "id": "xNNoq3wQk3Fn",
        "outputId": "04fb2976-78f6-4841-bd04-6fdac97c2411"
      },
      "execution_count": null,
      "outputs": [
        {
          "output_type": "execute_result",
          "data": {
            "text/plain": [
              "234567"
            ]
          },
          "metadata": {},
          "execution_count": 8
        }
      ]
    },
    {
      "cell_type": "code",
      "source": [],
      "metadata": {
        "id": "hQpGzbUik3ZY"
      },
      "execution_count": null,
      "outputs": []
    },
    {
      "cell_type": "markdown",
      "source": [
        "모의고사 42840"
      ],
      "metadata": {
        "id": "t5PFvpH4rb0N"
      }
    },
    {
      "cell_type": "code",
      "source": [
        "a=[1,2,3,4,5]\n",
        "b=[2,2,3,1,2]"
      ],
      "metadata": {
        "id": "QpfKT2vzreJ8"
      },
      "execution_count": null,
      "outputs": []
    },
    {
      "cell_type": "code",
      "source": [
        "print([i==j for i,j in zip(a,b)])\n",
        "print(sum([i==j for i,j in zip(a,b)]))"
      ],
      "metadata": {
        "colab": {
          "base_uri": "https://localhost:8080/"
        },
        "id": "fyv-OSESrm83",
        "outputId": "697d60a7-7ae2-4447-a23d-f7c44ea74b03"
      },
      "execution_count": null,
      "outputs": [
        {
          "output_type": "stream",
          "name": "stdout",
          "text": [
            "[False, True, True, False, False]\n",
            "2\n"
          ]
        }
      ]
    },
    {
      "cell_type": "code",
      "source": [
        "def solution(answers):\n",
        "    answer = []\n",
        "    ## 수포자들의 답과 비교를 위하여 문자열로 변환\n",
        "    answers=''.join([str(n) for n in answers])\n",
        "\n",
        "    ## 수포자들의 알고리즘\n",
        "    # 1: 12345 반복 5\n",
        "    # 2: 21232425 반복 8\n",
        "    # 3: 3311224455 반복 10\n",
        "\n",
        "    ## 수포자들의 반복을 정확히 answers의 길이만큼만 반복시켜주어야함\n",
        "    supoza1='12345'*(len(answers)//5)+'12345'[:len(answers)%5]\n",
        "    supoza2='21232425'*(len(answers)//8)+'21232425'[:len(answers)%9]\n",
        "    supoza3='3311224455'*(len(answers)//10)+'3311224455'[:len(answers)%10]\n",
        "\n",
        "    ## answers와 supoza n을 통째로 비교해서, True들만 더해주면 어떨까\n",
        "    score1=sum([i==j for i,j in zip(list(supoza1),list(answers))])\n",
        "    score2=sum([i==j for i,j in zip(list(supoza2),list(answers))])\n",
        "    score3=sum([i==j for i,j in zip(list(supoza3),list(answers))])\n",
        "    scores=[score1,score2,score3]\n",
        "    answer.extend([i+1 for i,v in enumerate(scores) if v==max(scores)])\n",
        "    return answer\n",
        "\n",
        "answers=[2,1,3,5,1,4,2,2,3,1,2]\n",
        "solution(answers)"
      ],
      "metadata": {
        "colab": {
          "base_uri": "https://localhost:8080/"
        },
        "id": "vZTewWVLs6yf",
        "outputId": "838b5060-9f57-4069-81fc-d072168c54d1"
      },
      "execution_count": null,
      "outputs": [
        {
          "output_type": "execute_result",
          "data": {
            "text/plain": [
              "[2]"
            ]
          },
          "metadata": {},
          "execution_count": 7
        }
      ]
    },
    {
      "cell_type": "markdown",
      "source": [
        "소수 찾기 12921 에라토스테네스의 체 이용\n",
        "2부터 n까지의 모든 수를 리스트에 저장합니다.\n",
        "2부터 시작하여 배수를 제거합니다. (2는 소수이므로 2의 배수를 모두 제거합니다.)\n",
        "다음으로 남은 수 중에서 가장 작은 수를 찾고, 그 수의 배수를 모두 제거합니다.\n",
        "위 과정을 반복하면 소수만 남게 됩니다."
      ],
      "metadata": {
        "id": "JfkrVxuN89-K"
      }
    },
    {
      "cell_type": "code",
      "source": [
        "n=100\n",
        "is_prime = [True] * (n + 1)\n",
        "is_prime[0] = is_prime[1] = False\n",
        "# print(is_prime)\n",
        "print(int(n**0.5)+1)\n",
        "for i in range(2, int(n**0.5) + 1):\n",
        "    print(i)\n",
        "    if is_prime[i]:\n",
        "        for j in range(i*i, n + 1, i):\n",
        "            is_prime[j] = False\n",
        "    print(is_prime)\n",
        "print(sum(is_prime))"
      ],
      "metadata": {
        "colab": {
          "base_uri": "https://localhost:8080/"
        },
        "id": "1kK2rlhV9CbK",
        "outputId": "bae212ce-e601-4af7-f5db-28dc20cfe2f4"
      },
      "execution_count": null,
      "outputs": [
        {
          "output_type": "stream",
          "name": "stdout",
          "text": [
            "11\n",
            "2\n",
            "[False, False, True, True, False, True, False, True, False, True, False, True, False, True, False, True, False, True, False, True, False, True, False, True, False, True, False, True, False, True, False, True, False, True, False, True, False, True, False, True, False, True, False, True, False, True, False, True, False, True, False, True, False, True, False, True, False, True, False, True, False, True, False, True, False, True, False, True, False, True, False, True, False, True, False, True, False, True, False, True, False, True, False, True, False, True, False, True, False, True, False, True, False, True, False, True, False, True, False, True, False]\n",
            "3\n",
            "[False, False, True, True, False, True, False, True, False, False, False, True, False, True, False, False, False, True, False, True, False, False, False, True, False, True, False, False, False, True, False, True, False, False, False, True, False, True, False, False, False, True, False, True, False, False, False, True, False, True, False, False, False, True, False, True, False, False, False, True, False, True, False, False, False, True, False, True, False, False, False, True, False, True, False, False, False, True, False, True, False, False, False, True, False, True, False, False, False, True, False, True, False, False, False, True, False, True, False, False, False]\n",
            "4\n",
            "[False, False, True, True, False, True, False, True, False, False, False, True, False, True, False, False, False, True, False, True, False, False, False, True, False, True, False, False, False, True, False, True, False, False, False, True, False, True, False, False, False, True, False, True, False, False, False, True, False, True, False, False, False, True, False, True, False, False, False, True, False, True, False, False, False, True, False, True, False, False, False, True, False, True, False, False, False, True, False, True, False, False, False, True, False, True, False, False, False, True, False, True, False, False, False, True, False, True, False, False, False]\n",
            "5\n",
            "[False, False, True, True, False, True, False, True, False, False, False, True, False, True, False, False, False, True, False, True, False, False, False, True, False, False, False, False, False, True, False, True, False, False, False, False, False, True, False, False, False, True, False, True, False, False, False, True, False, True, False, False, False, True, False, False, False, False, False, True, False, True, False, False, False, False, False, True, False, False, False, True, False, True, False, False, False, True, False, True, False, False, False, True, False, False, False, False, False, True, False, True, False, False, False, False, False, True, False, False, False]\n",
            "6\n",
            "[False, False, True, True, False, True, False, True, False, False, False, True, False, True, False, False, False, True, False, True, False, False, False, True, False, False, False, False, False, True, False, True, False, False, False, False, False, True, False, False, False, True, False, True, False, False, False, True, False, True, False, False, False, True, False, False, False, False, False, True, False, True, False, False, False, False, False, True, False, False, False, True, False, True, False, False, False, True, False, True, False, False, False, True, False, False, False, False, False, True, False, True, False, False, False, False, False, True, False, False, False]\n",
            "7\n",
            "[False, False, True, True, False, True, False, True, False, False, False, True, False, True, False, False, False, True, False, True, False, False, False, True, False, False, False, False, False, True, False, True, False, False, False, False, False, True, False, False, False, True, False, True, False, False, False, True, False, False, False, False, False, True, False, False, False, False, False, True, False, True, False, False, False, False, False, True, False, False, False, True, False, True, False, False, False, False, False, True, False, False, False, True, False, False, False, False, False, True, False, False, False, False, False, False, False, True, False, False, False]\n",
            "8\n",
            "[False, False, True, True, False, True, False, True, False, False, False, True, False, True, False, False, False, True, False, True, False, False, False, True, False, False, False, False, False, True, False, True, False, False, False, False, False, True, False, False, False, True, False, True, False, False, False, True, False, False, False, False, False, True, False, False, False, False, False, True, False, True, False, False, False, False, False, True, False, False, False, True, False, True, False, False, False, False, False, True, False, False, False, True, False, False, False, False, False, True, False, False, False, False, False, False, False, True, False, False, False]\n",
            "9\n",
            "[False, False, True, True, False, True, False, True, False, False, False, True, False, True, False, False, False, True, False, True, False, False, False, True, False, False, False, False, False, True, False, True, False, False, False, False, False, True, False, False, False, True, False, True, False, False, False, True, False, False, False, False, False, True, False, False, False, False, False, True, False, True, False, False, False, False, False, True, False, False, False, True, False, True, False, False, False, False, False, True, False, False, False, True, False, False, False, False, False, True, False, False, False, False, False, False, False, True, False, False, False]\n",
            "10\n",
            "[False, False, True, True, False, True, False, True, False, False, False, True, False, True, False, False, False, True, False, True, False, False, False, True, False, False, False, False, False, True, False, True, False, False, False, False, False, True, False, False, False, True, False, True, False, False, False, True, False, False, False, False, False, True, False, False, False, False, False, True, False, True, False, False, False, False, False, True, False, False, False, True, False, True, False, False, False, False, False, True, False, False, False, True, False, False, False, False, False, True, False, False, False, False, False, False, False, True, False, False, False]\n",
            "25\n"
          ]
        }
      ]
    },
    {
      "cell_type": "markdown",
      "source": [],
      "metadata": {
        "id": "ogmqKiKbDb6T"
      }
    },
    {
      "cell_type": "code",
      "source": [
        "n=8\n",
        "section=[2,3,6]\n",
        "# all_walls=[True if i not in section else False for i in range(1,n+1)]\n",
        "# all_walls\n",
        "\n",
        "m=4\n",
        "def solution(n, m, section):\n",
        "    answer = 0\n",
        "    all_walls=[True if i not in section else False for i in range(1,n+1)]\n",
        "    print(all_walls)\n",
        "    while (sum(all_walls)!=n):\n",
        "        for i in section:\n",
        "            if all_walls[i-1]==False: # false 라면 i에서 i+m까지 모두 True로 변경\n",
        "                for j in range(i-1,i+m-1):\n",
        "                    if j<n:\n",
        "                        all_walls[j]=True\n",
        "                answer+=1\n",
        "            else:\n",
        "                continue\n",
        "        print(all_walls)\n",
        "\n",
        "    return answer\n",
        "solution(n,m,section)"
      ],
      "metadata": {
        "colab": {
          "base_uri": "https://localhost:8080/"
        },
        "id": "VFiEoelCDcQp",
        "outputId": "f4483ad8-050a-408f-8623-5430c1e59dd1"
      },
      "execution_count": null,
      "outputs": [
        {
          "output_type": "stream",
          "name": "stdout",
          "text": [
            "[True, False, False, True, True, False, True, True]\n",
            "[True, True, True, True, True, True, True, True]\n"
          ]
        },
        {
          "output_type": "execute_result",
          "data": {
            "text/plain": [
              "2"
            ]
          },
          "metadata": {},
          "execution_count": 40
        }
      ]
    },
    {
      "cell_type": "code",
      "source": [
        "all([all_walls[i]==True for i in range(len(all_walls))])"
      ],
      "metadata": {
        "colab": {
          "base_uri": "https://localhost:8080/"
        },
        "id": "yaqaZMc_HHvB",
        "outputId": "2c290dd5-d368-498c-97b1-ee6dc50d7cce"
      },
      "execution_count": null,
      "outputs": [
        {
          "output_type": "execute_result",
          "data": {
            "text/plain": [
              "False"
            ]
          },
          "metadata": {},
          "execution_count": 35
        }
      ]
    },
    {
      "cell_type": "code",
      "source": [
        "def solution(N, stages):\n",
        "    answer = []\n",
        "    ## 알고리즘 고민\n",
        "    # 1. 스테이지의 개수 만큼 반복한다\n",
        "    # 2. 스테이지(n)와 같은 값의 갯수를 센다 = onstage_users\n",
        "    # 3. challenging_users를 도전한 사람의 수로 나눈다 = failure_rate\n",
        "    # 4. failure_rate과 스테이지(n)를 키와 밸류로 저장한다.\n",
        "    # 5. stages에서 n을 제외시켜준다.\n",
        "    # 6. 저장된 키와 밸류를 내림차순으로 정렬한다. (그러므로 일단 모든 키의 밸류에 0을 넣어둔다.)\n",
        "    # 참고로, 밸류가 같다면 키의 값을 기준으로 정렬한다.\n",
        "\n",
        "    ## 다른 방식\n",
        "    # 1. 스테이지의 개수(N) 만큼 반복한다.\n",
        "    # 2. '현 스테이지(n)와 같은 사람의 수'를 '현 스테이지와 같거나 큰 사람의 수'로 나눈다.\n",
        "    # 딕셔너리로 저장하여 정렬 반환하는 것은 상동\n",
        "\n",
        "    for n in range(1,N+1):\n",
        "        onstage_users=0\n",
        "        challenge_users=0\n",
        "\n",
        "        onstage_users=stages.count(n)\n",
        "        for s in stages:\n",
        "            if s>=n:\n",
        "                challenge_users+=1\n",
        "        failure_rate=onstage_users/challenge_users\n",
        "        answer.append(tuple((n,failure_rate)))\n",
        "        print(n,failure_rate)\n",
        "    answer=[t[0] for t in sorted(answer, reverse=True, key=lambda x: x[1])]\n",
        "    # # sorted(failure_dict,key=lambda x: failure_dict.items[1], reverse=True)\n",
        "    # answer=list(failure_dict)\n",
        "\n",
        "    return answer\n",
        "solution(5,[2, 1, 2, 6, 2, 4, 3, 3])"
      ],
      "metadata": {
        "colab": {
          "base_uri": "https://localhost:8080/"
        },
        "id": "8dUm8z7zRlHp",
        "outputId": "7452bf09-c791-4008-cd17-cf5640b8ae4d"
      },
      "execution_count": null,
      "outputs": [
        {
          "output_type": "stream",
          "name": "stdout",
          "text": [
            "1 0.125\n",
            "2 0.42857142857142855\n",
            "3 0.5\n",
            "4 0.5\n",
            "5 0.0\n"
          ]
        },
        {
          "output_type": "execute_result",
          "data": {
            "text/plain": [
              "[3, 4, 2, 1, 5]"
            ]
          },
          "metadata": {},
          "execution_count": 48
        }
      ]
    },
    {
      "cell_type": "code",
      "source": [
        "## 해시 - 의상 - 42578\n",
        "def solution(clothes):\n",
        "    answer = 0\n",
        "    ## clothes를 어떤 자료구조로 변경할 것인가\n",
        "    # 딕셔너리?\n",
        "    clothes_dic={}\n",
        "    for i in clothes:\n",
        "        if clothes_dic.get(i[1],None)==None:\n",
        "            clothes_dic[i[1]]=[]\n",
        "        clothes_dic[i[1]].append(i[0])\n",
        "\n",
        "    print(clothes_dic)\n",
        "    print(len(clothes_dic))\n",
        "\n",
        "    for key, value in clothes_dic.items():\n",
        "        answer+=len(value)\n",
        "\n",
        "    if len(clothes_dic)>1:\n",
        "        combi=1\n",
        "        for k,v in clothes_dic.items():\n",
        "            combi*=len(v)\n",
        "        answer+=combi\n",
        "\n",
        "    return answer\n",
        "\n",
        "clothes=[[\"crow_mask\", \"face\"], [\"blue_sunglasses\", \"face\"], [\"smoky_makeup\", \"face\"]]\n",
        "solution(clothes)"
      ],
      "metadata": {
        "colab": {
          "base_uri": "https://localhost:8080/"
        },
        "id": "Tw22DyHz---n",
        "outputId": "efb4ab9f-37da-431a-afbc-b5305c73ee3c"
      },
      "execution_count": null,
      "outputs": [
        {
          "output_type": "stream",
          "name": "stdout",
          "text": [
            "{'face': ['crow_mask', 'blue_sunglasses', 'smoky_makeup']}\n",
            "1\n"
          ]
        },
        {
          "output_type": "execute_result",
          "data": {
            "text/plain": [
              "3"
            ]
          },
          "metadata": {},
          "execution_count": 13
        }
      ]
    },
    {
      "cell_type": "code",
      "source": [
        "clothes_dic"
      ],
      "metadata": {
        "colab": {
          "base_uri": "https://localhost:8080/",
          "height": 182
        },
        "id": "sQ7q5_tvNlO9",
        "outputId": "3983c3e5-c24c-41e9-df6e-145431785b62"
      },
      "execution_count": null,
      "outputs": [
        {
          "output_type": "error",
          "ename": "NameError",
          "evalue": "name 'clothes_dic' is not defined",
          "traceback": [
            "\u001b[0;31m---------------------------------------------------------------------------\u001b[0m",
            "\u001b[0;31mNameError\u001b[0m                                 Traceback (most recent call last)",
            "\u001b[0;32m<ipython-input-8-2673b95ad48b>\u001b[0m in \u001b[0;36m<cell line: 1>\u001b[0;34m()\u001b[0m\n\u001b[0;32m----> 1\u001b[0;31m \u001b[0mclothes_dic\u001b[0m\u001b[0;34m\u001b[0m\u001b[0;34m\u001b[0m\u001b[0m\n\u001b[0m",
            "\u001b[0;31mNameError\u001b[0m: name 'clothes_dic' is not defined"
          ]
        }
      ]
    },
    {
      "cell_type": "code",
      "source": [
        "from itertools import combinations\n",
        "\n",
        "def solution(clothes):\n",
        "    answer = 0\n",
        "    ## clothes를 어떤 자료구조로 변경할 것인가\n",
        "    # 딕셔너리?\n",
        "    clothes_dic={}\n",
        "    for i in clothes:\n",
        "        if clothes_dic.get(i[1],None)==None:\n",
        "            clothes_dic[i[1]]=[]\n",
        "        clothes_dic[i[1]].append(i[0])\n",
        "\n",
        "    r=len()\n",
        "\n",
        "    return answer"
      ],
      "metadata": {
        "id": "4_Oksntthg4d"
      },
      "execution_count": null,
      "outputs": []
    },
    {
      "cell_type": "code",
      "source": [
        "# 바탕화면 정리 161990\n",
        "wallpaper=[\".##...##.\", \"#..#.#..#\", \"#...#...#\", \".#.....#.\", \"..#...#..\", \"...#.#...\", \"....#....\"]\n",
        "def solution(wallpaper):\n",
        "    answer=[]\n",
        "    coordinate={'row':[], 'col':[]}\n",
        "    for row, wall in enumerate(wallpaper):\n",
        "        for col, s in enumerate(wall):\n",
        "            if s=='#':\n",
        "                coordinate['row'].append(row)\n",
        "                coordinate['col'].append(col)\n",
        "    print(coordinate)\n",
        "    print(min(coordinate['row']))\n",
        "\n",
        "\n",
        "    answer.append(min(coordinate['row']))\n",
        "    answer.append(min(coordinate['col']))\n",
        "    answer.append(max(coordinate['row'])+1)\n",
        "    answer.append(max(coordinate['col'])+1)\n",
        "    return answer\n",
        "solution(wallpaper)"
      ],
      "metadata": {
        "colab": {
          "base_uri": "https://localhost:8080/"
        },
        "id": "-6VS5HUESQN-",
        "outputId": "334f1c7d-7d02-4552-dbe7-d97ad5c0055c"
      },
      "execution_count": null,
      "outputs": [
        {
          "output_type": "stream",
          "name": "stdout",
          "text": [
            "{'row': [0, 0, 0, 0, 1, 1, 1, 1, 2, 2, 2, 3, 3, 4, 4, 5, 5, 6], 'col': [1, 2, 6, 7, 0, 3, 5, 8, 0, 4, 8, 1, 7, 2, 6, 3, 5, 4]}\n",
            "0\n"
          ]
        },
        {
          "output_type": "execute_result",
          "data": {
            "text/plain": [
              "[0, 0, 7, 9]"
            ]
          },
          "metadata": {},
          "execution_count": 13
        }
      ]
    },
    {
      "cell_type": "code",
      "source": [
        "# 카드뭉치 159994\n",
        "def solution(cards1, cards2, goal):\n",
        "\n",
        "    idx_list=[]\n",
        "    for g in goal:\n",
        "        if g in cards1:\n",
        "            idx_g=cards1.index(g)\n",
        "        if g in cards2:\n",
        "            idx_g=cards2.index(g)\n",
        "        idx_list.append(idx_g)\n",
        "    print(idx_list)\n",
        "\n",
        "    if idx_list==sorted(idx_list):\n",
        "        return \"Yes\"\n",
        "    else:\n",
        "        return \"No\"\n",
        "\n",
        "cards1=[\"i\", \"drink\", \"water\"]\n",
        "cards2=[\"want\", \"to\"]\n",
        "goal=[\"i\", \"want\", \"to\", \"drink\", \"water\"]\n",
        "\n",
        "solution(cards1, cards2, goal)"
      ],
      "metadata": {
        "colab": {
          "base_uri": "https://localhost:8080/",
          "height": 54
        },
        "id": "J0hmKcTP8aXE",
        "outputId": "433f3b1c-a9b1-4cc6-8e17-7226b60dd5e2"
      },
      "execution_count": null,
      "outputs": [
        {
          "output_type": "stream",
          "name": "stdout",
          "text": [
            "[0, 0, 1, 1, 2]\n"
          ]
        },
        {
          "output_type": "execute_result",
          "data": {
            "text/plain": [
              "'Yes'"
            ],
            "application/vnd.google.colaboratory.intrinsic+json": {
              "type": "string"
            }
          },
          "metadata": {},
          "execution_count": 2
        }
      ]
    },
    {
      "cell_type": "code",
      "source": [
        "[1,2,112,124]+[2,1,25,1]"
      ],
      "metadata": {
        "id": "j0wDUeBl8aqu",
        "colab": {
          "base_uri": "https://localhost:8080/"
        },
        "outputId": "87ae7ebf-c625-4685-dbfc-ef5b4b8a7599"
      },
      "execution_count": null,
      "outputs": [
        {
          "output_type": "execute_result",
          "data": {
            "text/plain": [
              "[1, 2, 112, 124, 2, 1, 25, 1]"
            ]
          },
          "metadata": {},
          "execution_count": 1
        }
      ]
    },
    {
      "cell_type": "code",
      "source": [
        "print(hash('joo'))"
      ],
      "metadata": {
        "colab": {
          "base_uri": "https://localhost:8080/"
        },
        "id": "NPzuanM6AY49",
        "outputId": "17d12b98-8902-4c11-d8ea-80b3b22f0ff9"
      },
      "execution_count": null,
      "outputs": [
        {
          "output_type": "stream",
          "name": "stdout",
          "text": [
            "4277671303701393930\n"
          ]
        }
      ]
    },
    {
      "cell_type": "code",
      "source": [
        "hash_value=0\n",
        "hash_value^=hash('joo')\n",
        "print(hash_value)"
      ],
      "metadata": {
        "colab": {
          "base_uri": "https://localhost:8080/"
        },
        "id": "J2bIQV6dCGSt",
        "outputId": "904594cf-2723-4cf2-efd8-af5a82a02f6e"
      },
      "execution_count": null,
      "outputs": [
        {
          "output_type": "stream",
          "name": "stdout",
          "text": [
            "4277671303701393930\n"
          ]
        }
      ]
    },
    {
      "cell_type": "code",
      "source": [
        "hash_value^=hash('jin')\n",
        "print(hash_value)"
      ],
      "metadata": {
        "colab": {
          "base_uri": "https://localhost:8080/"
        },
        "id": "kjrdvt9CCGNk",
        "outputId": "b83046cd-d6aa-425e-a4e9-389baa20cb7b"
      },
      "execution_count": null,
      "outputs": [
        {
          "output_type": "stream",
          "name": "stdout",
          "text": [
            "-9204596310169125432\n"
          ]
        }
      ]
    },
    {
      "cell_type": "code",
      "source": [
        "print(hash('jin'))"
      ],
      "metadata": {
        "colab": {
          "base_uri": "https://localhost:8080/"
        },
        "id": "724QL0pUCeOc",
        "outputId": "4c3b10a4-523d-4c71-e3ef-b6ed58be0d1d"
      },
      "execution_count": null,
      "outputs": [
        {
          "output_type": "stream",
          "name": "stdout",
          "text": [
            "-4962998612981215294\n"
          ]
        }
      ]
    },
    {
      "cell_type": "code",
      "source": [
        "4277671303701393930+4962998612981215294"
      ],
      "metadata": {
        "colab": {
          "base_uri": "https://localhost:8080/"
        },
        "id": "dwA9AePFCz3t",
        "outputId": "3d6775ff-2aa5-4139-cb9e-9dcf768e71b4"
      },
      "execution_count": null,
      "outputs": [
        {
          "output_type": "execute_result",
          "data": {
            "text/plain": [
              "9240669916682609224"
            ]
          },
          "metadata": {},
          "execution_count": 10
        }
      ]
    },
    {
      "cell_type": "markdown",
      "source": [
        "백준 12014번 국정원문제"
      ],
      "metadata": {
        "id": "txon7VKS-M73"
      }
    },
    {
      "cell_type": "code",
      "source": [
        "test_times= int(input())\n",
        "\n",
        "for t in range(test_times):\n",
        "    ## 정보 입력\n",
        "    n, k = map(int, input().split(' '))\n",
        "    # print(n,k)\n",
        "    stock_price_list=list(map(int, input().split(' ')))\n",
        "\n",
        "    # 주가 상승일자 기록\n",
        "    up_count=0\n",
        "    for i in range(len(stock_price_list)-1):\n",
        "        if stock_price_list[i]<stock_price_list[i+1]:\n",
        "            up_count+=1\n",
        "\n",
        "    # 정보 출력\n",
        "    print(f\"case #{t+1}\")\n",
        "    if k<=up_count:\n",
        "        print(1)\n",
        "    else:\n",
        "        print(0)\n"
      ],
      "metadata": {
        "colab": {
          "base_uri": "https://localhost:8080/",
          "height": 496
        },
        "id": "7qm1bEAk-Mlm",
        "outputId": "5369cc8c-3b1c-47dd-f66a-908e22087f69"
      },
      "execution_count": null,
      "outputs": [
        {
          "output_type": "stream",
          "name": "stdout",
          "text": [
            "3\n",
            "10 6\n",
            "100 50 70 90 75 87 105 78 110 60\n",
            "case #1\n",
            "0\n"
          ]
        },
        {
          "output_type": "error",
          "ename": "KeyboardInterrupt",
          "evalue": "Interrupted by user",
          "traceback": [
            "\u001b[0;31m---------------------------------------------------------------------------\u001b[0m",
            "\u001b[0;31mKeyboardInterrupt\u001b[0m                         Traceback (most recent call last)",
            "\u001b[0;32m<ipython-input-6-181a7ff3befb>\u001b[0m in \u001b[0;36m<cell line: 3>\u001b[0;34m()\u001b[0m\n\u001b[1;32m      3\u001b[0m \u001b[0;32mfor\u001b[0m \u001b[0mt\u001b[0m \u001b[0;32min\u001b[0m \u001b[0mrange\u001b[0m\u001b[0;34m(\u001b[0m\u001b[0mtest_times\u001b[0m\u001b[0;34m)\u001b[0m\u001b[0;34m:\u001b[0m\u001b[0;34m\u001b[0m\u001b[0;34m\u001b[0m\u001b[0m\n\u001b[1;32m      4\u001b[0m     \u001b[0;31m## 정보 입력\u001b[0m\u001b[0;34m\u001b[0m\u001b[0;34m\u001b[0m\u001b[0m\n\u001b[0;32m----> 5\u001b[0;31m     \u001b[0mn\u001b[0m\u001b[0;34m,\u001b[0m \u001b[0mk\u001b[0m \u001b[0;34m=\u001b[0m \u001b[0mmap\u001b[0m\u001b[0;34m(\u001b[0m\u001b[0mint\u001b[0m\u001b[0;34m,\u001b[0m \u001b[0minput\u001b[0m\u001b[0;34m(\u001b[0m\u001b[0;34m)\u001b[0m\u001b[0;34m.\u001b[0m\u001b[0msplit\u001b[0m\u001b[0;34m(\u001b[0m\u001b[0;34m' '\u001b[0m\u001b[0;34m)\u001b[0m\u001b[0;34m)\u001b[0m\u001b[0;34m\u001b[0m\u001b[0;34m\u001b[0m\u001b[0m\n\u001b[0m\u001b[1;32m      6\u001b[0m     \u001b[0;31m# print(n,k)\u001b[0m\u001b[0;34m\u001b[0m\u001b[0;34m\u001b[0m\u001b[0m\n\u001b[1;32m      7\u001b[0m     \u001b[0mstock_price_list\u001b[0m\u001b[0;34m=\u001b[0m\u001b[0mlist\u001b[0m\u001b[0;34m(\u001b[0m\u001b[0mmap\u001b[0m\u001b[0;34m(\u001b[0m\u001b[0mint\u001b[0m\u001b[0;34m,\u001b[0m \u001b[0minput\u001b[0m\u001b[0;34m(\u001b[0m\u001b[0;34m)\u001b[0m\u001b[0;34m.\u001b[0m\u001b[0msplit\u001b[0m\u001b[0;34m(\u001b[0m\u001b[0;34m' '\u001b[0m\u001b[0;34m)\u001b[0m\u001b[0;34m)\u001b[0m\u001b[0;34m)\u001b[0m\u001b[0;34m\u001b[0m\u001b[0;34m\u001b[0m\u001b[0m\n",
            "\u001b[0;32m/usr/local/lib/python3.10/dist-packages/ipykernel/kernelbase.py\u001b[0m in \u001b[0;36mraw_input\u001b[0;34m(self, prompt)\u001b[0m\n\u001b[1;32m    849\u001b[0m                 \u001b[0;34m\"raw_input was called, but this frontend does not support input requests.\"\u001b[0m\u001b[0;34m\u001b[0m\u001b[0;34m\u001b[0m\u001b[0m\n\u001b[1;32m    850\u001b[0m             )\n\u001b[0;32m--> 851\u001b[0;31m         return self._input_request(str(prompt),\n\u001b[0m\u001b[1;32m    852\u001b[0m             \u001b[0mself\u001b[0m\u001b[0;34m.\u001b[0m\u001b[0m_parent_ident\u001b[0m\u001b[0;34m,\u001b[0m\u001b[0;34m\u001b[0m\u001b[0;34m\u001b[0m\u001b[0m\n\u001b[1;32m    853\u001b[0m             \u001b[0mself\u001b[0m\u001b[0;34m.\u001b[0m\u001b[0m_parent_header\u001b[0m\u001b[0;34m,\u001b[0m\u001b[0;34m\u001b[0m\u001b[0;34m\u001b[0m\u001b[0m\n",
            "\u001b[0;32m/usr/local/lib/python3.10/dist-packages/ipykernel/kernelbase.py\u001b[0m in \u001b[0;36m_input_request\u001b[0;34m(self, prompt, ident, parent, password)\u001b[0m\n\u001b[1;32m    893\u001b[0m             \u001b[0;32mexcept\u001b[0m \u001b[0mKeyboardInterrupt\u001b[0m\u001b[0;34m:\u001b[0m\u001b[0;34m\u001b[0m\u001b[0;34m\u001b[0m\u001b[0m\n\u001b[1;32m    894\u001b[0m                 \u001b[0;31m# re-raise KeyboardInterrupt, to truncate traceback\u001b[0m\u001b[0;34m\u001b[0m\u001b[0;34m\u001b[0m\u001b[0m\n\u001b[0;32m--> 895\u001b[0;31m                 \u001b[0;32mraise\u001b[0m \u001b[0mKeyboardInterrupt\u001b[0m\u001b[0;34m(\u001b[0m\u001b[0;34m\"Interrupted by user\"\u001b[0m\u001b[0;34m)\u001b[0m \u001b[0;32mfrom\u001b[0m \u001b[0;32mNone\u001b[0m\u001b[0;34m\u001b[0m\u001b[0;34m\u001b[0m\u001b[0m\n\u001b[0m\u001b[1;32m    896\u001b[0m             \u001b[0;32mexcept\u001b[0m \u001b[0mException\u001b[0m \u001b[0;32mas\u001b[0m \u001b[0me\u001b[0m\u001b[0;34m:\u001b[0m\u001b[0;34m\u001b[0m\u001b[0;34m\u001b[0m\u001b[0m\n\u001b[1;32m    897\u001b[0m                 \u001b[0mself\u001b[0m\u001b[0;34m.\u001b[0m\u001b[0mlog\u001b[0m\u001b[0;34m.\u001b[0m\u001b[0mwarning\u001b[0m\u001b[0;34m(\u001b[0m\u001b[0;34m\"Invalid Message:\"\u001b[0m\u001b[0;34m,\u001b[0m \u001b[0mexc_info\u001b[0m\u001b[0;34m=\u001b[0m\u001b[0;32mTrue\u001b[0m\u001b[0;34m)\u001b[0m\u001b[0;34m\u001b[0m\u001b[0;34m\u001b[0m\u001b[0m\n",
            "\u001b[0;31mKeyboardInterrupt\u001b[0m: Interrupted by user"
          ]
        }
      ]
    },
    {
      "cell_type": "code",
      "source": [
        "'3'.isdigit()"
      ],
      "metadata": {
        "id": "7i1JOoGz-McG",
        "colab": {
          "base_uri": "https://localhost:8080/"
        },
        "outputId": "832920a9-55e8-4685-e4f9-7b2c45922fc6"
      },
      "execution_count": null,
      "outputs": [
        {
          "output_type": "execute_result",
          "data": {
            "text/plain": [
              "True"
            ]
          },
          "metadata": {},
          "execution_count": 9
        }
      ]
    },
    {
      "cell_type": "code",
      "source": [
        "dartResult=\"1D2S#10S\"\n",
        "def solution(dartResult):\n",
        "    answer=0\n",
        "    temp_num=0\n",
        "    temp_char=''\n",
        "    for r in dartResult:\n",
        "        if r.isdigit():\n",
        "            answer+=temp_num\n",
        "            temp_num=r\n",
        "        elif r.isalpha():\n",
        "            if r=='S':\n",
        "               temp_char=r\n",
        "        elif r=='#'"
      ],
      "metadata": {
        "id": "IGcr2Mg2zHYY"
      },
      "execution_count": null,
      "outputs": []
    },
    {
      "cell_type": "code",
      "source": [
        "3.isint()"
      ],
      "metadata": {
        "colab": {
          "base_uri": "https://localhost:8080/",
          "height": 142
        },
        "id": "S_VzmB7uaEMS",
        "outputId": "08526a4f-bcd5-4510-c83a-992874ab1f57"
      },
      "execution_count": null,
      "outputs": [
        {
          "output_type": "error",
          "ename": "SyntaxError",
          "evalue": "invalid syntax (<ipython-input-1-4a9a3fba9602>, line 1)",
          "traceback": [
            "\u001b[0;36m  File \u001b[0;32m\"<ipython-input-1-4a9a3fba9602>\"\u001b[0;36m, line \u001b[0;32m1\u001b[0m\n\u001b[0;31m    3.isint()\u001b[0m\n\u001b[0m      ^\u001b[0m\n\u001b[0;31mSyntaxError\u001b[0m\u001b[0;31m:\u001b[0m invalid syntax\n"
          ]
        }
      ]
    },
    {
      "cell_type": "code",
      "source": [
        "dartResult='2S10T#0S'\n",
        "dartList=[]\n",
        "import re\n",
        "pattern=re.compile('[\\d]*\\w[#*]?')\n",
        "dartList=re.findall(pattern,dartResult)\n",
        "answer+=0\n",
        "for score in dartList:\n"
      ],
      "metadata": {
        "colab": {
          "base_uri": "https://localhost:8080/"
        },
        "id": "DlU2XcZfaKVA",
        "outputId": "9b0c573e-624c-4776-e291-674ddebd13b3"
      },
      "execution_count": null,
      "outputs": [
        {
          "output_type": "execute_result",
          "data": {
            "text/plain": [
              "['2S', '10T#', '0S']"
            ]
          },
          "metadata": {},
          "execution_count": 18
        }
      ]
    },
    {
      "cell_type": "code",
      "source": [
        "progresses = [95, 90, 99, 99, 80, 99]\n",
        "speeds = [1, 1, 1, 1, 1, 1]\n",
        "def solution(progresses, speeds):\n",
        "    answer = []\n",
        "    day=0\n",
        "\n",
        "    while True:\n",
        "        queue=[]\n",
        "        q=0\n",
        "        if len(progresses)==0:\n",
        "            break\n",
        "        day+=1\n",
        "        for i in range(len(progresses)):\n",
        "            q=progresses[i]+day*speeds[i]\n",
        "            queue.append(q)\n",
        "        print(queue)\n",
        "        cnt=0\n",
        "        for e,p in enumerate(queue):\n",
        "            if p>=100:\n",
        "                cnt+=1\n",
        "                progresses.pop(0)\n",
        "                speeds.pop(0)\n",
        "            else:\n",
        "                break\n",
        "        if cnt>0:\n",
        "            answer.append(cnt)\n",
        "    return answer\n",
        "solution(progresses, speeds)"
      ],
      "metadata": {
        "colab": {
          "base_uri": "https://localhost:8080/"
        },
        "id": "BXaqW9HpbDD0",
        "outputId": "7228a774-4447-432c-9d0e-8ae7af55e667"
      },
      "execution_count": null,
      "outputs": [
        {
          "output_type": "stream",
          "name": "stdout",
          "text": [
            "[96, 91, 100, 100, 81, 100]\n",
            "[97, 92, 101, 101, 82, 101]\n",
            "[98, 93, 102, 102, 83, 102]\n",
            "[99, 94, 103, 103, 84, 103]\n",
            "[100, 95, 104, 104, 85, 104]\n",
            "[96, 105, 105, 86, 105]\n",
            "[97, 106, 106, 87, 106]\n",
            "[98, 107, 107, 88, 107]\n",
            "[99, 108, 108, 89, 108]\n",
            "[100, 109, 109, 90, 109]\n",
            "[91, 110]\n",
            "[92, 111]\n",
            "[93, 112]\n",
            "[94, 113]\n",
            "[95, 114]\n",
            "[96, 115]\n",
            "[97, 116]\n",
            "[98, 117]\n",
            "[99, 118]\n",
            "[100, 119]\n"
          ]
        },
        {
          "output_type": "execute_result",
          "data": {
            "text/plain": [
              "[1, 3, 2]"
            ]
          },
          "metadata": {},
          "execution_count": 7
        }
      ]
    },
    {
      "cell_type": "code",
      "source": [
        "for e,p in enumerate([1,2,1,],1):\n",
        "    print(e,p)"
      ],
      "metadata": {
        "colab": {
          "base_uri": "https://localhost:8080/"
        },
        "id": "H68Lm1Q4bDWx",
        "outputId": "0a5c23dc-c363-402b-e3de-7a882c15c79a"
      },
      "execution_count": null,
      "outputs": [
        {
          "output_type": "stream",
          "name": "stdout",
          "text": [
            "1 1\n",
            "2 2\n",
            "3 1\n"
          ]
        }
      ]
    },
    {
      "cell_type": "code",
      "source": [
        "def solution(priorities, location):\n",
        "    answer = 0\n",
        "    ## 알고리즘 분석\n",
        "    # 1. 리스트의 가장 처음을 꺼내온다.\n",
        "    # 2. 꺼내온 값 보다 큰 값의 존재를 확인한다.\n",
        "    # 2.1 더 큰 값이 존재하는 경우, 꺼내온 값을 다시 리스트의 가장 뒤로 붙인다.\n",
        "    ##      + location을\n",
        "    # 2.2 더 큰 값이 존재하지 않는 경우, 실행한다(카운트를 올린다)\n",
        "    # 3. 원하는 위치의 값을 확인하는 방법\n",
        "    # 3.1 값을 꺼내올때 마다 1씩 줄인다.\n",
        "    # 3.1.1 location아 0이 되었을때 꺼내온 값이 알고 싶은 값이다. 만약 리스트에 더 큰 값이 남아있다면, 리스트에 붙이고 나서 location을 len -1 로 바꿔준다.\n",
        "    # 3.1.2 만약 location==0일때의 꺼내온 값 보다 큰 값이 없으면 카운트를 세고서 리턴한다.\n",
        "\n",
        "    while True:\n",
        "        p=priorities.pop(0)\n",
        "        location-=1\n",
        "        print(priorities)\n",
        "        print(location)\n",
        "\n",
        "        if p>=max(priorities):\n",
        "            answer+=1\n",
        "            if location==-1:\n",
        "                return answer\n",
        "                break\n",
        "        else:\n",
        "            priorities.append(p)\n",
        "            if location==-1:\n",
        "                location=len(priorities)-1\n",
        "    # return answer\n",
        "\n",
        "solution([2,1,3,2],2)"
      ],
      "metadata": {
        "colab": {
          "base_uri": "https://localhost:8080/"
        },
        "id": "l2PoiQIing3T",
        "outputId": "0debd7ca-7fda-4182-87f8-223ea78bd240"
      },
      "execution_count": null,
      "outputs": [
        {
          "output_type": "stream",
          "name": "stdout",
          "text": [
            "[1, 3, 2]\n",
            "1\n",
            "[3, 2, 2]\n",
            "0\n",
            "[2, 2, 1]\n",
            "-1\n"
          ]
        },
        {
          "output_type": "execute_result",
          "data": {
            "text/plain": [
              "1"
            ]
          },
          "metadata": {},
          "execution_count": 18
        }
      ]
    },
    {
      "cell_type": "code",
      "source": [],
      "metadata": {
        "id": "fiFgySPdf_tD"
      },
      "execution_count": null,
      "outputs": []
    },
    {
      "cell_type": "code",
      "source": [
        "[1,2,1,3,1,2].index(4)"
      ],
      "metadata": {
        "colab": {
          "base_uri": "https://localhost:8080/",
          "height": 146
        },
        "id": "8kYsdLzUgACh",
        "outputId": "8ea16d31-6e30-4c39-95c4-20d78b630b3f"
      },
      "execution_count": null,
      "outputs": [
        {
          "output_type": "error",
          "ename": "ValueError",
          "evalue": "4 is not in list",
          "traceback": [
            "\u001b[0;31m---------------------------------------------------------------------------\u001b[0m",
            "\u001b[0;31mValueError\u001b[0m                                Traceback (most recent call last)",
            "\u001b[0;32m<ipython-input-2-d2591036581a>\u001b[0m in \u001b[0;36m<cell line: 1>\u001b[0;34m()\u001b[0m\n\u001b[0;32m----> 1\u001b[0;31m \u001b[0;34m[\u001b[0m\u001b[0;36m1\u001b[0m\u001b[0;34m,\u001b[0m\u001b[0;36m2\u001b[0m\u001b[0;34m,\u001b[0m\u001b[0;36m1\u001b[0m\u001b[0;34m,\u001b[0m\u001b[0;36m3\u001b[0m\u001b[0;34m,\u001b[0m\u001b[0;36m1\u001b[0m\u001b[0;34m,\u001b[0m\u001b[0;36m2\u001b[0m\u001b[0;34m]\u001b[0m\u001b[0;34m.\u001b[0m\u001b[0mindex\u001b[0m\u001b[0;34m(\u001b[0m\u001b[0;36m4\u001b[0m\u001b[0;34m)\u001b[0m\u001b[0;34m\u001b[0m\u001b[0;34m\u001b[0m\u001b[0m\n\u001b[0m",
            "\u001b[0;31mValueError\u001b[0m: 4 is not in list"
          ]
        }
      ]
    },
    {
      "cell_type": "code",
      "source": [
        "\n",
        "from collections import deque\n",
        "\n",
        "queue=deque([4,21,23,176,4,6,7])\n",
        "\n",
        "queue.appendleft(777)"
      ],
      "metadata": {
        "id": "MknV_8fLkI1o"
      },
      "execution_count": null,
      "outputs": []
    },
    {
      "cell_type": "code",
      "source": [
        "any([0,0,0])"
      ],
      "metadata": {
        "colab": {
          "base_uri": "https://localhost:8080/"
        },
        "id": "sPFKZX_skIqX",
        "outputId": "dee02ca6-a6d3-49d2-836b-2aa517905f20"
      },
      "execution_count": null,
      "outputs": [
        {
          "output_type": "execute_result",
          "data": {
            "text/plain": [
              "False"
            ]
          },
          "metadata": {},
          "execution_count": 7
        }
      ]
    },
    {
      "cell_type": "code",
      "source": [],
      "metadata": {
        "id": "sS1gmGSkkIdw"
      },
      "execution_count": null,
      "outputs": []
    }
  ]
}