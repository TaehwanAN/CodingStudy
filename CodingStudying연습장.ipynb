{
  "nbformat": 4,
  "nbformat_minor": 0,
  "metadata": {
    "colab": {
      "provenance": [],
      "toc_visible": true,
      "authorship_tag": "ABX9TyMeyP43LZNNrTQJQ6xTlfWS",
      "include_colab_link": true
    },
    "kernelspec": {
      "name": "python3",
      "display_name": "Python 3"
    },
    "language_info": {
      "name": "python"
    }
  },
  "cells": [
    {
      "cell_type": "markdown",
      "metadata": {
        "id": "view-in-github",
        "colab_type": "text"
      },
      "source": [
        "<a href=\"https://colab.research.google.com/github/TaehwanAN/CodingStudy/blob/main/CodingStudying%EC%97%B0%EC%8A%B5%EC%9E%A5.ipynb\" target=\"_parent\"><img src=\"https://colab.research.google.com/assets/colab-badge.svg\" alt=\"Open In Colab\"/></a>"
      ]
    },
    {
      "cell_type": "markdown",
      "source": [
        "공원 산책: 172928"
      ],
      "metadata": {
        "id": "WU6CjLlFUD_X"
      }
    },
    {
      "cell_type": "code",
      "execution_count": null,
      "metadata": {
        "colab": {
          "base_uri": "https://localhost:8080/"
        },
        "id": "kPqXWg-0KSfO",
        "outputId": "04839653-1c78-4f48-e63a-afc77d5ab8e4"
      },
      "outputs": [
        {
          "output_type": "stream",
          "name": "stdout",
          "text": [
            "0 0\n"
          ]
        },
        {
          "output_type": "execute_result",
          "data": {
            "text/plain": [
              "[0, 0]"
            ]
          },
          "metadata": {},
          "execution_count": 39
        }
      ],
      "source": [
        "# def solution(park, routes):\n",
        "    ## 동서: 같은 문자열에서 좌우로 이동 / 남북: 원소의 인덱스를 기준으로 이동\n",
        "    # 동: [==][+=], 서: [==][-=], 남: [+=][==], 북:[-=][==]\n",
        "    # 총 반복 횟수: len(routes)\n",
        "    # routes 원소 스플릿하면 방향과 거리 도출 가능\n",
        "    # 조건: 이동 거리가 범위 밖으로 안나가는지\n",
        "    # 조건: 이동 경로에서 장애물을 만나는지\n",
        "\n",
        "    # ##\n",
        "    # # 현재 좌표 탐색 (h,w)\n",
        "    # h=0\n",
        "    # w=0\n",
        "    # for i,w_string in enumerate(park):\n",
        "    #     if \"S\" in w_string:\n",
        "    #         h=i; w=w_string.find(\"S\");\n",
        "\n",
        "    # # 지시사항 탐색\n",
        "    # for r in routes:\n",
        "    #     direction, distance = r.split(' ')\n",
        "    #     distance=int(distance)\n",
        "    #     # 방향 확인 - 이동 가능한 거리인지 확인 - 장애물이 존해하는지 확인 : 조건 미충족시 break\n",
        "    #     if direction=='E':\n",
        "    #         if len(park[h])<(distance+w): break\n",
        "    #         elif \"X\" in park[h][w:]: break\n",
        "    #         else:\n",
        "    #             park[h][w], park[h][w+distance] = park[h][w+distance], park[h][w] # 이동 실행\n",
        "    # # print(park)\n",
        "\n",
        "\n",
        "\n",
        "## 문자열을 그대로 활용하려는 시도는 실패함. 왜냐하면 문자열의 경우 그 안의 문자 순서를 바꿔주기가 힘듬.\n",
        "# 따라서 그냥 park자체를 이중리스트로 바꿔버리자!\n",
        "\n",
        "def solution(park,routes):\n",
        "    answer=[]\n",
        "# 문자열로 담겨진 리스트를 이중리스트로 변경하기\n",
        "    park_array=[list(p) for p in park]\n",
        "# 현재 좌표 탐색\n",
        "    h=0 ; w=0 ;\n",
        "    for i, p_list in enumerate(park_array):\n",
        "        if \"S\" in p_list:\n",
        "            h=i; w=p_list.index(\"S\"); break;\n",
        "        # print(h,w)\n",
        "\n",
        "# 지시 사항 탐색\n",
        "        # 방향 확인 -> 이동 가능 거리 확인 -> 장애물 확인: 조건 미충족 시 continue\n",
        "        # 조건 충족 시: 현재좌표 <-> 이동 후 좌표, 그리고 현재 좌표 업데이트\n",
        "    for r in routes:\n",
        "        direction, distance= r.split( ' '); distance=int(distance);\n",
        "        if direction=='E':\n",
        "            if len(park_array[h][w:])<(w+distance): continue\n",
        "            elif \"X\" in park_array[h][w:]: continue\n",
        "            else:\n",
        "                park_array[h][w], park_array[h][w+distance] = park_array[h][w+distance], park_array[h][w] # 이동 실행\n",
        "                w+=distance # 좌표 변경\n",
        "        elif direction=='W':\n",
        "            if len(park_array[h][:w])>(w+distance): continue\n",
        "            elif \"X\" in park_array[h][:w]: continue\n",
        "            else:\n",
        "                park_array[h][w], park_array[h][w-distance] = park_array[h][w-distance], park_array[h][w] # 이동 실행\n",
        "                w-=distance # 좌표 변경\n",
        "\n",
        "        elif direction=='S':\n",
        "            if len(park)<(h+distance): continue\n",
        "            # elif \"X\" in park[h:][w]: continue ### 이중리스트[부분 슬라이싱][인덱스] => 이중리스트를 다시 가져와서 제대로 된 검색이 안되네\n",
        "            elif \"X\" in [h_list[w] for h_list in park_array[h:]]: continue ### 이렇게 바꿔줘야 검색 가능해짐\n",
        "            else:\n",
        "                park_array[h][w], park_array[h+distance][w]= park_array[h+distance][w], park_array[h][w]\n",
        "                h+=distance; # 좌표변경\n",
        "        elif direction=='N':\n",
        "            if 0>(h-distance): continue\n",
        "            elif \"X\" in [h_list[w] for h_list in park_array[:h]]: continue\n",
        "            else:\n",
        "                park_array[h][w], park_array[h-distance][w]= park_array[h-distance][w], park_array[h][w]\n",
        "                h-=distance;\n",
        "        print(h,w)\n",
        "    # 현재 좌표 반환\n",
        "    answer.append(h); answer.append(w)\n",
        "    return answer\n",
        "\n",
        "park=[\"OSO\",\"OOO\",\"OXO\",\"OOO\"]\n",
        "routes=[\"E 2\",\"S 3\",\"W 1\"]\n",
        "solution(park,routes)"
      ]
    },
    {
      "cell_type": "code",
      "source": [
        "## GPT HELP!!!\n",
        "def solution(park, routes):\n",
        "    # 문자열로 담겨진 리스트를 이중리스트로 변경하기\n",
        "    park_array = [list(p) for p in park]\n",
        "    # 현재 좌표 탐색\n",
        "    h = 0\n",
        "    w = 0\n",
        "    for i, p_list in enumerate(park_array):\n",
        "        if \"S\" in p_list:\n",
        "            h = i\n",
        "            w = p_list.index(\"S\")\n",
        "            break\n",
        "\n",
        "    # 이동 가능한지 확인하는 함수\n",
        "    def can_move(h, w, dh, dw, distance): # dh는 height 이동거리, dw는 width 이동거리\n",
        "        for i in range(1, distance + 1): # 현 좌표 다음 좌표 부터 이동할 거리만큼 까지\n",
        "            nh, nw = h + dh * i, w + dw * i\n",
        "            if nh < 0 or nh >= len(park_array) or nw < 0 or nw >= len(park_array[0]) or park_array[nh][nw] == \"X\":\n",
        "                return False\n",
        "        return True\n",
        "\n",
        "    # 지시 사항 탐색\n",
        "    directions = {'E': (0, 1), 'W': (0, -1), 'S': (1, 0), 'N': (-1, 0)} ## 방향정보를 이동할 1칸씩의 좌표를 담은 튜플과 해쉬맵으로 정리했네; 기저벡터활용\n",
        "    for r in routes:\n",
        "        direction, distance = r.split(' ')\n",
        "        distance = int(distance)\n",
        "        dh, dw = directions[direction]\n",
        "        if can_move(h, w, dh, dw, distance):\n",
        "            park_array[h][w], park_array[h + dh * distance][w + dw * distance] = park_array[h + dh * distance][w + dw * distance], park_array[h][w]\n",
        "            h += dh * distance\n",
        "            w += dw * distance\n",
        "\n",
        "    # 현재 좌표 반환\n",
        "    return [h, w]"
      ],
      "metadata": {
        "colab": {
          "base_uri": "https://localhost:8080/"
        },
        "id": "0bwUuDOZUfCK",
        "outputId": "66c1dc1a-67f3-4182-e333-52bf8e7e4f09"
      },
      "execution_count": null,
      "outputs": [
        {
          "output_type": "execute_result",
          "data": {
            "text/plain": [
              "['X', 'O']"
            ]
          },
          "metadata": {},
          "execution_count": 33
        }
      ]
    },
    {
      "cell_type": "markdown",
      "source": [
        "구명보트 42885"
      ],
      "metadata": {
        "id": "c287HvATh31D"
      }
    },
    {
      "cell_type": "code",
      "source": [
        "def solution(people,limit):\n",
        "    answer=0\n",
        "    aloneList=[]\n",
        "    minWeight=min(people)\n",
        "\n",
        "    # 일단 혼자만 타야하는 사람은 먼저 내보낸다.\n",
        "    while True:\n",
        "        if max(people)> (limit-min(people)):\n",
        "            answer+=1\n",
        "            people.remove(max(people))\n",
        "            # print(people)\n",
        "        else:\n",
        "            break\n",
        "\n",
        "\n",
        "    # while True:\n",
        "    #     boat=[]\n",
        "    #     while True:\n",
        "    #         boat.append(min(people))\n",
        "    #         people.remove(min(people))\n",
        "    #         print(\"boat\",boat)\n",
        "    #         print(\"people\",people)\n",
        "    #         if sum(people)+min(people)>limit:\n",
        "    #             break\n",
        "    #     print(answer)\n",
        "    #     answer+=1\n",
        "    #     if len(people)==0:\n",
        "    #         break\n",
        "\n",
        "\n",
        "    ## 알고리즘 고민\n",
        "    # 만약 다음 탈사람까지 더한 몸무게 합산이 보트 무게 제한을 넘기면,그 사람은 못탄채로 보트를 출발 시킨다.\n",
        "    # 빈 보트에는 일단 제일 몸무게 적은 사람 부터 태운다. 그리고 무인도에서 그 사람을 제거한다.\n",
        "    # 보트가 출발하면 정답 +1 해주고, 다음 새로운 보트가 들어온다.\n",
        "    # 이 작업은 무인도에 남은 인간이 하나도 없을때 까지 반복된다.\n",
        "    ## 알고리즘 만들다 보니 min()활용할때 people이 빈 깡통이면 에러가 발생함.\n",
        "    # 그래서 무인도에 1명 남으면 그냥 그 사람을 혼자 태워서 보내버리고 정답 +1 해주고 while 문 종료 시켜버림.\n",
        "    ## 이러한 종료방식도 만약 100 리밋에 50,50이 타버리는 경우를 고려 못함.\n",
        "    # 따라서 while True -> while len(people)>0 으로 변경\n",
        "\n",
        "    # while len(people)>0:\n",
        "    #     boat=[]\n",
        "    #     while len(people)>0:\n",
        "    #         if sum(boat)+min(people)>limit:\n",
        "    #             # print(answer)\n",
        "    #             break\n",
        "    #         boat.append(min(people)); people.remove(min(people));\n",
        "    #     answer+=1\n",
        "    # return answer\n",
        "\n",
        "\n",
        "\n",
        "    ## 내 알고리즘의 문제점\n",
        "    # 구명보트는 작아서 최대 2명 밖에 못탄다는 제한사항을 miss해버림.\n",
        "\n",
        "    while len(people)>0:\n",
        "        boat=[]\n",
        "        while len(people)>0:\n",
        "            if (len(boat)==2 or (sum(boat)+min(people)>limit)):\n",
        "                break\n",
        "            boat.append(min(people)); people.remove(min(people));\n",
        "        answer+=1\n",
        "\n",
        "    return answer\n",
        "\n",
        "people=[70,80,50]\n",
        "limit=100\n",
        "solution(people,limit)\n",
        "\n",
        "\n",
        "## 효율성: max()와 min() 함수는 각각 O(n)의 시간 복잡도를 가지므로,\n",
        "#이들을 반복적으로 호출하면 전체 알고리즘의 효율성이 저하됩니다.\n",
        "# 이를 해결하기 위해, 사람들을 무게별로 미리 정렬하고 양쪽 끝에서 시작하여 인덱스를 이동시키는 방법을 사용할 수 있습니다.\n",
        "\n",
        "## 보트의 용량: 코드는 한 보트에 최대 2명만 탈 수 있다고 가정하고 있습니다.\n",
        "# 그러나 문제 설명에 따르면, 보트의 무게 제한만 지키면 보트에 더 많은 사람들을 태울 수 있습니다.\n",
        "# 이 부분을 수정하려면, 보트에 사람들을 추가하는 동안 무게 제한을 초과하지 않는 한 계속 추가해야 합니다."
      ],
      "metadata": {
        "id": "4mCkNaIXUggo",
        "colab": {
          "base_uri": "https://localhost:8080/"
        },
        "outputId": "2e2ae46f-b30f-43d4-d3d8-f22472d8c98b"
      },
      "execution_count": 33,
      "outputs": [
        {
          "output_type": "execute_result",
          "data": {
            "text/plain": [
              "3"
            ]
          },
          "metadata": {},
          "execution_count": 33
        }
      ]
    },
    {
      "cell_type": "code",
      "source": [
        "## GPT에 물어보 코드\n",
        "def solution(people, limit):\n",
        "    people.sort() # 사람들을 오름차순으로 정렬(min이 0번 인덱스로)\n",
        "    answer = 0\n",
        "    i, j = 0, len(people) - 1 # 시작값, 끝값\n",
        "\n",
        "    ## 알고리즘 생각\n",
        "    # 일단 제일 무거운 사람을 태워서 보낼거다.\n",
        "    # 그런데 만약 그 제일 무거운 사람과 제일 가벼운 사람을 함께 태워서 보낼 수 있다면,\n",
        "    # 같이 태워보낼거다.\n",
        "    # 같이 못 태워 보내면(else) 그냥 제일 무거운 사람만 혼자 보낼거다.\n",
        "    ## 문제의 제한사항이 최대 2인 탑승 가능이라서ok.\n",
        "    while i <= j: # 왼쪽에서오는 인덱스가 오른쪽에서 오는 인덱스와 같아질때 까지\n",
        "\n",
        "        if people[i] + people[j] <= limit:\n",
        "            i += 1\n",
        "\n",
        "        j -= 1; answer += 1;\n",
        "    return answer\n",
        "\n",
        "# 사람들을 정렬합니다 (people.sort()): 이것은 사람들을 그들의 무게에 따라 오름차순으로 정렬합니다. 이렇게 하면 가장 가벼운 사람과 가장 무거운 사람을 쉽게 찾을 수 있습니다.\n",
        "\n",
        "# 인덱스를 초기화합니다 (i, j = 0, len(people) - 1): i는 가장 가벼운 사람을 가리키고, j는 가장 무거운 사람을 가리킵니다.\n",
        "\n",
        "# 보트에 사람들을 태웁니다 (while i <= j:): 이 루프는 모든 사람이 보트에 탈 때까지 계속됩니다.\n",
        "\n",
        "# 가벼운 사람과 무거운 사람을 함께 태웁니다 (if people[i] + people[j] <= limit:): 만약 두 사람이 함께 보트에 탈 수 있다면 (즉, 그들의 무게 합이 보트의 무게 제한 이하라면), i를 증가시켜 다음으로 가장 가벼운 사람을 가리키게 합니다.\n",
        "\n",
        "# 무거운 사람을 혼자 태웁니다 (j -= 1): 무거운 사람이 혼자 타야 하는 경우 (즉, 가장 가벼운 사람과 함께 탈 수 없는 경우)나 두 사람이 함께 탈 수 있는 경우에도, j를 감소시켜 다음으로 가장 무거운 사람을 가리키게 합니다.\n",
        "\n",
        "# 보트의 수를 세어줍니다 (answer += 1): 무거운 사람이 보트에 탈 때마다 보트의 수를 증가시킵니다. 이는 무거운 사람이 혼자 타든 가벼운 사람과 함께 타든 간에 보트를 사용하게 되므로, 이 시점에서 보트의 수를 증가시키는 것이 합리적입니다.\n",
        "\n",
        "# 보트의 총 수를 반환합니다 (return answer): 모든 사람이 보트에 탄 후에는, 사용된 보트의 총 수를 반환합니다."
      ],
      "metadata": {
        "id": "Fx4SyU_3uZM1"
      },
      "execution_count": null,
      "outputs": []
    }
  ]
}